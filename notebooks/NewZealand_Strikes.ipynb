{
 "cells": [
  {
   "cell_type": "code",
   "execution_count": 1,
   "metadata": {},
   "outputs": [],
   "source": [
    "# %load template.py\n",
    "import glob\n",
    "import io\n",
    "import ipyleaflet\n",
    "import IPython.display\n",
    "import ipyvolume.pylab as p3\n",
    "import json\n",
    "import matplotlib.cm\n",
    "import matplotlib.pyplot as plt\n",
    "import numpy as np\n",
    "import os\n",
    "import pandas as pd\n",
    "import pdal\n",
    "import PIL\n",
    "import pyproj\n",
    "import requests\n",
    "import fiona\n",
    "import shapely.geometry\n",
    "from shapely.geometry import Polygon, mapping\n",
    "import scipy.spatial\n",
    "import sys\n",
    "import urllib.request\n",
    "\n",
    "%load_ext autoreload\n",
    "%autoreload 2\n",
    "    \n",
    "sys.path.append('../src')\n",
    "from pcl_utils import local_max\n",
    "\n",
    "# Url for aerial imagery\n",
    "# IVaerial = \"https://geoservices.informatievlaanderen.be/raadpleegdiensten/ogw/wms?SERVICE=WMS&VERSION=1.3.0&REQUEST=GetMap&CRS=EPSG:31370&BBOX={0},{1},{2},{3}&WIDTH=512&HEIGHT=512&LAYERS=OGWRGB13_15VL&STYLES=default&FORMAT=image/png\"\n",
    "\n",
    "%matplotlib inline"
   ]
  },
  {
   "cell_type": "markdown",
   "metadata": {},
   "source": [
    "### Work with qgis on project NewZealand_Strikes\n",
    "#### Download New Zealand lidar from <a href=\"https://www.opentopography.org\">OpenTopography</a>\n",
    "\n",
    "work with the 3 las files\n",
    "-first draw each of their boundarys in qgis"
   ]
  },
  {
   "cell_type": "markdown",
   "metadata": {},
   "source": [
    "<div>\n",
    "    Process lidar data for Mt Magneto site. 3 files cover the area. They are from 2 different tile sets available at the OpenTopography site. DEMS are available from the <span><a href='https://www.linz.govt.nz/data'>LINZ</a></span> site for New Zealand data. This site shows the lidar coverage at my main site Mt Magneto. Alas so dissappointed that their index tiles do not all have full coverage at perimeter areas - argh. So am adding in Arrow River site at the end of this notebook.\n",
    "</div>"
   ]
  },
  {
   "cell_type": "code",
   "execution_count": 2,
   "metadata": {},
   "outputs": [],
   "source": [
    "file1 = \"/media/thistle/Passport/gis/nz/lidar/points1.las\" # small site discovered to be covered by file3 **see below\n",
    "file2 = \"/media/thistle/Passport/gis/nz/lidar/points2.las\"\n",
    "file3 = \"/media/thistle/Passport/gis/nz/lidar/points3.las\""
   ]
  },
  {
   "cell_type": "markdown",
   "metadata": {},
   "source": [
    "#### data for this project can be found at two locations\n",
    "* /media/thistle/Passport/gis/nz\n",
    "- /home/thistle/Documents/dev/ML/gis_project/data"
   ]
  },
  {
   "cell_type": "code",
   "execution_count": null,
   "metadata": {},
   "outputs": [],
   "source": [
    "# extract bbox info and write to files as a dictionary object"
   ]
  },
  {
   "cell_type": "code",
   "execution_count": 3,
   "metadata": {},
   "outputs": [],
   "source": [
    "!pdal info $file1 | jq .stats.bbox.native.bbox > ../data/file1_bb.txt\n",
    "!pdal info $file2 | jq .stats.bbox.native.bbox > ../data/file2_bb.txt\n",
    "!pdal info $file3 | jq .stats.bbox.native.bbox > ../data/file3_bb.txt"
   ]
  },
  {
   "cell_type": "code",
   "execution_count": 6,
   "metadata": {},
   "outputs": [],
   "source": [
    "with open(\"../data/file1_bb.txt\") as f:\n",
    "    f1_text = f.read()\n",
    "f1 = json.loads(f1_text)"
   ]
  },
  {
   "cell_type": "code",
   "execution_count": 7,
   "metadata": {},
   "outputs": [],
   "source": [
    "with open(\"../data/file2_bb.txt\") as f:\n",
    "    f2_text = f.read()\n",
    "f2 = json.loads(f2_text)"
   ]
  },
  {
   "cell_type": "code",
   "execution_count": 8,
   "metadata": {},
   "outputs": [],
   "source": [
    "with open(\"../data/file3_bb.txt\") as f:\n",
    "    f3_text = f.read()\n",
    "f3 = json.loads(f3_text)"
   ]
  },
  {
   "cell_type": "code",
   "execution_count": 9,
   "metadata": {},
   "outputs": [
    {
     "data": {
      "text/plain": [
       "{'maxx': 1275059.08,\n",
       " 'maxy': 5006165.45,\n",
       " 'maxz': 1644.3,\n",
       " 'minx': 1273657.62,\n",
       " 'miny': 5004077.6,\n",
       " 'minz': 851.49}"
      ]
     },
     "execution_count": 9,
     "metadata": {},
     "output_type": "execute_result"
    }
   ],
   "source": [
    "f2"
   ]
  },
  {
   "cell_type": "code",
   "execution_count": 4,
   "metadata": {},
   "outputs": [],
   "source": [
    "def make_poly(bbox):\n",
    "        poly = Polygon([(bbox[\"maxx\"], bbox['maxy']), (bbox[\"maxx\"], bbox['miny']), (bbox[\"minx\"], bbox['miny']), (bbox[\"minx\"], bbox['maxy']), (bbox[\"maxx\"], bbox['maxy'])])\n",
    "        return poly"
   ]
  },
  {
   "cell_type": "code",
   "execution_count": 11,
   "metadata": {},
   "outputs": [],
   "source": [
    "f1poly = make_poly(f1)\n",
    "f2poly = make_poly(f2)\n",
    "f3poly = make_poly(f3)"
   ]
  },
  {
   "cell_type": "code",
   "execution_count": 12,
   "metadata": {},
   "outputs": [],
   "source": [
    "# write a shape file with three files"
   ]
  },
  {
   "cell_type": "code",
   "execution_count": 5,
   "metadata": {},
   "outputs": [],
   "source": [
    "from fiona.crs import from_epsg\n",
    "from collections import OrderedDict\n",
    "nz_crs = from_epsg(2193)"
   ]
  },
  {
   "cell_type": "code",
   "execution_count": 14,
   "metadata": {},
   "outputs": [
    {
     "data": {
      "text/plain": [
       "shapely.geometry.polygon.Polygon"
      ]
     },
     "execution_count": 14,
     "metadata": {},
     "output_type": "execute_result"
    }
   ],
   "source": [
    "type(f1poly)"
   ]
  },
  {
   "cell_type": "code",
   "execution_count": null,
   "metadata": {},
   "outputs": [],
   "source": [
    "new_filepath = \"../data/lidar_tiles.shp\"\n",
    "schema = {\n",
    "    'geometry': 'Polygon',\n",
    "    'properties': OrderedDict([('name', 'str')])  \n",
    "}"
   ]
  },
  {
   "cell_type": "code",
   "execution_count": 56,
   "metadata": {},
   "outputs": [],
   "source": [
    "with fiona.open(new_filepath, \"w\", driver=\"ESRI Shapefile\", crs=nz_crs, schema=schema) as f:\n",
    "    f.write({\n",
    "        \"geometry\": mapping(f1poly),\n",
    "        \"properties\":{\"name\": \"one\"}\n",
    "    })\n",
    "    f.write({\n",
    "        \"geometry\": mapping(f2poly),\n",
    "        \"properties\":{\"name\": \"two\"}\n",
    "    })\n",
    "    f.write({\n",
    "        \"geometry\": mapping(f3poly),\n",
    "        \"properties\":{\"name\": \"three\"}\n",
    "    })"
   ]
  },
  {
   "cell_type": "code",
   "execution_count": null,
   "metadata": {},
   "outputs": [],
   "source": [
    "#  To ensure the order of the attribute fields is predictable, in both the schema and the actual manifestation as feature attributes, we should use ordered dictionaries.\n",
    "#  But with only one property who cares right?"
   ]
  },
  {
   "cell_type": "code",
   "execution_count": 15,
   "metadata": {},
   "outputs": [
    {
     "data": {
      "image/svg+xml": [
       "<svg xmlns=\"http://www.w3.org/2000/svg\" xmlns:xlink=\"http://www.w3.org/1999/xlink\" width=\"300\" height=\"300\" viewBox=\"1275654.41 5003860.45 1474.9300000001676 2458.3499999996275\" preserveAspectRatio=\"xMinYMin meet\"><g transform=\"matrix(1,0,0,-1,0,10010179.25)\"><path fill-rule=\"evenodd\" fill=\"#66cc99\" stroke=\"#555555\" stroke-width=\"16.388999999997516\" opacity=\"0.6\" d=\"M 1275745.46,5003951.5 L 1275745.46,5006227.75 L 1277038.29,5006227.75 L 1277038.29,5003951.5 L 1275745.46,5003951.5 z\" /></g></svg>"
      ],
      "text/plain": [
       "<shapely.geometry.polygon.Polygon at 0x7f96a2dc8e90>"
      ]
     },
     "execution_count": 15,
     "metadata": {},
     "output_type": "execute_result"
    }
   ],
   "source": [
    "f3poly.intersection(f1poly)"
   ]
  },
  {
   "cell_type": "code",
   "execution_count": 16,
   "metadata": {},
   "outputs": [
    {
     "data": {
      "text/plain": [
       "2942804.2875001696"
      ]
     },
     "execution_count": 16,
     "metadata": {},
     "output_type": "execute_result"
    }
   ],
   "source": [
    "f3poly.intersection(f1poly).area"
   ]
  },
  {
   "cell_type": "code",
   "execution_count": 17,
   "metadata": {},
   "outputs": [
    {
     "data": {
      "text/plain": [
       "17797382.641400635"
      ]
     },
     "execution_count": 17,
     "metadata": {},
     "output_type": "execute_result"
    }
   ],
   "source": [
    "f3poly.area"
   ]
  },
  {
   "cell_type": "code",
   "execution_count": 18,
   "metadata": {},
   "outputs": [
    {
     "data": {
      "text/plain": [
       "2942804.2875001696"
      ]
     },
     "execution_count": 18,
     "metadata": {},
     "output_type": "execute_result"
    }
   ],
   "source": [
    "f1poly.area"
   ]
  },
  {
   "cell_type": "code",
   "execution_count": 19,
   "metadata": {
    "scrolled": true
   },
   "outputs": [
    {
     "data": {
      "image/svg+xml": [
       "<svg xmlns=\"http://www.w3.org/2000/svg\" xmlns:xlink=\"http://www.w3.org/1999/xlink\" width=\"300\" height=\"300\" viewBox=\"1275548.1268 5003147.6968 4002.246400000062 5327.9964000005275\" preserveAspectRatio=\"xMinYMin meet\"><g transform=\"matrix(1,0,0,-1,0,10011623.39)\"><path fill-rule=\"evenodd\" fill=\"#66cc99\" stroke=\"#555555\" stroke-width=\"35.51997600000352\" opacity=\"0.6\" d=\"M 1279353.04,5008278.36 L 1279353.04,5003345.03 L 1275745.46,5003345.03 L 1275745.46,5003951.5 L 1277038.29,5003951.5 L 1277038.29,5006227.75 L 1275745.46,5006227.75 L 1275745.46,5008278.36 L 1279353.04,5008278.36 z\" /></g></svg>"
      ],
      "text/plain": [
       "<shapely.geometry.polygon.Polygon at 0x7f9667bb1390>"
      ]
     },
     "execution_count": 19,
     "metadata": {},
     "output_type": "execute_result"
    }
   ],
   "source": [
    "f3poly.difference(f1poly) # I knew it!!"
   ]
  },
  {
   "cell_type": "markdown",
   "metadata": {},
   "source": [
    "Appears the lidar tile index does not properly show full extent of each tile. How I picked a place that was sandwiched in between available lidar sets is so typical.\n"
   ]
  },
  {
   "cell_type": "code",
   "execution_count": 20,
   "metadata": {},
   "outputs": [],
   "source": [
    "# so I will just show them all\n",
    "# also get another .las file for area on Arrow River downstream from town.\n",
    "# add this new .las file as a feature for the lidar index shapefile I created above."
   ]
  },
  {
   "cell_type": "code",
   "execution_count": 22,
   "metadata": {},
   "outputs": [],
   "source": [
    "file4 = \"/media/thistle/Passport/gis/nz/lidar/points4.las\"\n",
    "!pdal info $file4 | jq .stats.bbox.native.bbox > ../data/file4_bb.txt\n"
   ]
  },
  {
   "cell_type": "code",
   "execution_count": 12,
   "metadata": {},
   "outputs": [],
   "source": [
    "with open('../data/file4_bb.txt') as f:\n",
    "    temp = f.read()\n",
    "    \n",
    "p4 = json.loads(temp)\n",
    "poly4 = make_poly(p4)"
   ]
  },
  {
   "cell_type": "code",
   "execution_count": 13,
   "metadata": {},
   "outputs": [
    {
     "name": "stdout",
     "output_type": "stream",
     "text": [
      "4\n",
      "5\n"
     ]
    }
   ],
   "source": [
    "# should be a little easier to append than create from scratch-\n",
    "shapefile_filepath = \"../data/lidar_tiles.shp\"\n",
    "with fiona.open(shapefile_filepath, \"a\") as f:\n",
    "    print(len(f))\n",
    "    f.write({\n",
    "        \"geometry\": mapping(poly4),\n",
    "        \"properties\":{\"name\": \"four\"}\n",
    "    })\n",
    "    print(len(f))"
   ]
  },
  {
   "cell_type": "code",
   "execution_count": 30,
   "metadata": {},
   "outputs": [],
   "source": [
    "poly4 = make_poly(p4)"
   ]
  },
  {
   "cell_type": "code",
   "execution_count": 35,
   "metadata": {},
   "outputs": [
    {
     "name": "stdout",
     "output_type": "stream",
     "text": [
      "3\n",
      "4\n"
     ]
    }
   ],
   "source": [
    "# should be a little easier to append than create from scratch-\n",
    "shapefile_filepath = \"../data/lidar_tiles.shp\"\n",
    "with fiona.open(shapefile_filepath, \"a\") as f:\n",
    "    print(len(f))\n",
    "    f.write({\n",
    "        \"geometry\": mapping(poly4),\n",
    "        \"properties\":{\"name\": \"four\"}\n",
    "    })\n",
    "    print(len(f))"
   ]
  },
  {
   "cell_type": "code",
   "execution_count": null,
   "metadata": {},
   "outputs": [],
   "source": [
    "### oops now have to remove a shape in the shapefile because I ran the above cell twice"
   ]
  },
  {
   "cell_type": "code",
   "execution_count": 7,
   "metadata": {},
   "outputs": [],
   "source": [
    "feat4_fp = \"/media/thistle/Passport/gis/nz/lidar/points4.las\" # Arrow River site"
   ]
  },
  {
   "cell_type": "code",
   "execution_count": 22,
   "metadata": {},
   "outputs": [],
   "source": [
    "# dem pipeline\n",
    "pipe = {\n",
    "    \"pipeline\":[\n",
    "        {\n",
    "            \"type\": \"readers.las\",\n",
    "            \"filename\": feat4_fp\n",
    "        },\n",
    "        {    \"type\":\"filters.outlier\",\n",
    "           \"method\":\"statistical\",\n",
    "           \"mean_k\":\"8\",\n",
    "           \"multiplier\":\"3\"\n",
    "      },\n",
    "      {\n",
    "          \"type\":\"filters.smrf\"\n",
    "      },\n",
    "      {\n",
    "          \"type\":\"filters.range\",\n",
    "          \"limits\":\"Classification[2:2]\"\n",
    "      },\n",
    "      {\n",
    "          \"type\":\"filters.delaunay\"\n",
    "      },\n",
    "      {\n",
    "        \"type\": \"writers.gdal\",\n",
    "        \"gdaldriver\": \"GTIFF\",\n",
    "        \"output_type\": \"all\",\n",
    "        \"resolution\": \"2.0\",\n",
    "        \"filename\": \"../data/nz_arrow1.tif\"\n",
    "      }\n",
    "    ]\n",
    "}"
   ]
  },
  {
   "cell_type": "code",
   "execution_count": null,
   "metadata": {},
   "outputs": [],
   "source": [
    "# it worked\n",
    "# so finish the dem and hillshade and call it good"
   ]
  },
  {
   "cell_type": "code",
   "execution_count": 23,
   "metadata": {},
   "outputs": [
    {
     "data": {
      "text/plain": [
       "True"
      ]
     },
     "execution_count": 23,
     "metadata": {},
     "output_type": "execute_result"
    }
   ],
   "source": [
    "p = pdal.Pipeline(json.dumps(pipe))\n",
    "p.validate()"
   ]
  },
  {
   "cell_type": "code",
   "execution_count": 24,
   "metadata": {},
   "outputs": [
    {
     "name": "stdout",
     "output_type": "stream",
     "text": [
      "13483395 points processed\n"
     ]
    }
   ],
   "source": [
    "np = p.execute()\n",
    "print(f\"{np} points processed\")"
   ]
  },
  {
   "cell_type": "code",
   "execution_count": 30,
   "metadata": {},
   "outputs": [
    {
     "name": "stdout",
     "output_type": "stream",
     "text": [
      "0...10...20...30...40...50...60...70...80...90...100 - done.\n"
     ]
    }
   ],
   "source": [
    "# now the hillshadeing\n",
    "!gdaldem hillshade ../data/nz_arrow1.tif ../data/nz_arrow1_hs1.tif -z 1.0 -s 1.0 -az 315.0 -alt 45.0 -of GTiff"
   ]
  },
  {
   "cell_type": "code",
   "execution_count": 29,
   "metadata": {},
   "outputs": [
    {
     "name": "stdout",
     "output_type": "stream",
     "text": [
      "0...10...20...30...40...50...60...70...80...90...100 - done.\n"
     ]
    }
   ],
   "source": [
    "# try 180 degree rotation for the hillshade\n",
    "!gdaldem hillshade ../data/nz_arrow1.tif ../data/nz_arrow1_hs2.tif -z 1.0 -s 1.0 -az 135.0 -alt 45.0 -of GTiff"
   ]
  },
  {
   "cell_type": "code",
   "execution_count": 39,
   "metadata": {},
   "outputs": [
    {
     "data": {
      "text/plain": [
       "True"
      ]
     },
     "execution_count": 39,
     "metadata": {},
     "output_type": "execute_result"
    }
   ],
   "source": [
    "p2 = pdal.Pipeline(json.dumps(pipe2))\n",
    "p2.validate()"
   ]
  },
  {
   "cell_type": "code",
   "execution_count": 40,
   "metadata": {},
   "outputs": [
    {
     "name": "stdout",
     "output_type": "stream",
     "text": [
      "13483395 points proccessed\n",
      "CPU times: user 48.8 s, sys: 2.62 s, total: 51.5 s\n",
      "Wall time: 51.3 s\n"
     ]
    }
   ],
   "source": [
    "%%time\n",
    "np = p2.execute()\n",
    "print(f\"{np} points proccessed\")"
   ]
  },
  {
   "cell_type": "code",
   "execution_count": null,
   "metadata": {},
   "outputs": [],
   "source": [
    "# ../data/nz_arrow_test1.tif is a test run without statitstical outliers removed\n",
    "# also found that if I use filters.poisson and not delaunay I get a gdal error say my tif file exceeds max bounds\n",
    "# guessing it might be benifical to pdal tindex this large file before applying complex viewing ops\n",
    "# so view the new file and--> still get the wierd noground/filler problem"
   ]
  },
  {
   "cell_type": "code",
   "execution_count": null,
   "metadata": {},
   "outputs": [],
   "source": [
    "# data removed. tests unsucessful"
   ]
  },
  {
   "cell_type": "code",
   "execution_count": 8,
   "metadata": {},
   "outputs": [],
   "source": [
    "# try pipeline without outlier removeal and a different meshing algorithm\n",
    "pipe3 = {\n",
    "    \"pipeline\":[\n",
    "        {\n",
    "            \"type\": \"readers.las\",\n",
    "            \"filename\": feat4_fp\n",
    "        },\n",
    "      {\n",
    "          \"type\":\"filters.smrf\"\n",
    "      },\n",
    "      {\n",
    "          \"type\":\"filters.range\",\n",
    "          \"limits\":\"Classification[2:2]\"\n",
    "      },\n",
    "    {\n",
    "        \"type\": \"filters.greedyprojection\",\n",
    "        \"multiplier\": 2,\n",
    "        \"radius\": 20\n",
    "    },\n",
    "      {\n",
    "        \"type\": \"writers.gdal\",\n",
    "        \"gdaldriver\": \"GTIFF\",\n",
    "        \"output_type\": \"all\",\n",
    "        \"resolution\": \"2.0\",\n",
    "        \"filename\": \"../data/nz_arrow_test1.tif\"\n",
    "      }\n",
    "    ]\n",
    "}"
   ]
  },
  {
   "cell_type": "code",
   "execution_count": 9,
   "metadata": {},
   "outputs": [
    {
     "data": {
      "text/plain": [
       "True"
      ]
     },
     "execution_count": 9,
     "metadata": {},
     "output_type": "execute_result"
    }
   ],
   "source": [
    "p_3 = pdal.Pipeline(json.dumps(pipe3))\n",
    "p_3.validate()"
   ]
  },
  {
   "cell_type": "code",
   "execution_count": 10,
   "metadata": {},
   "outputs": [
    {
     "name": "stdout",
     "output_type": "stream",
     "text": [
      "13483395 points processed\n",
      "CPU times: user 43min 52s, sys: 9.6 s, total: 44min 2s\n",
      "Wall time: 43min 47s\n"
     ]
    }
   ],
   "source": [
    "%%time\n",
    "num = p_3.execute()\n",
    "print(f\"{num} points processed\")"
   ]
  },
  {
   "cell_type": "markdown",
   "metadata": {},
   "source": [
    "I thought the above greedyprojection filter with radius double to 20 might help\n",
    "fill in missing areas with lots of missing ground points. It sure took a long time."
   ]
  },
  {
   "cell_type": "code",
   "execution_count": 14,
   "metadata": {},
   "outputs": [
    {
     "name": "stdout",
     "output_type": "stream",
     "text": [
      "0...10...20...30...40...50...60...70...80...90...100 - done.\n"
     ]
    }
   ],
   "source": [
    "!gdaldem hillshade ../data/nz_arrow1.tif ../data/nz_arrow2_hs1.tif -z 1.0 -s 1.0 -az 135.0 -alt 45.0 -of GTiff"
   ]
  },
  {
   "cell_type": "markdown",
   "metadata": {},
   "source": [
    "### I would say there is not a noticable difference between the two hillshade algorithms. Except obviously timewise."
   ]
  },
  {
   "cell_type": "markdown",
   "metadata": {},
   "source": [
    "# all tif files stored @ /home/thistle/Documents/dev/ML/gis_project/data"
   ]
  },
  {
   "cell_type": "markdown",
   "metadata": {},
   "source": [
    "## accomponing this notebook is the qgis project located @ \n",
    "### /media/thistle/Passport/gis/nz/NewZealandStrikes.qgz"
   ]
  },
  {
   "cell_type": "code",
   "execution_count": null,
   "metadata": {},
   "outputs": [],
   "source": []
  }
 ],
 "metadata": {
  "kernelspec": {
   "display_name": "Python 3",
   "language": "python",
   "name": "python3"
  },
  "language_info": {
   "codemirror_mode": {
    "name": "ipython",
    "version": 3
   },
   "file_extension": ".py",
   "mimetype": "text/x-python",
   "name": "python",
   "nbconvert_exporter": "python",
   "pygments_lexer": "ipython3",
   "version": "3.7.6"
  }
 },
 "nbformat": 4,
 "nbformat_minor": 4
}
