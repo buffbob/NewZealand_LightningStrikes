{
 "cells": [
  {
   "cell_type": "raw",
   "metadata": {},
   "source": [
    "Try to follow the tutorial at point-cloud-processing but using my own las data from NZ linz website"
   ]
  },
  {
   "cell_type": "code",
   "execution_count": 7,
   "metadata": {},
   "outputs": [],
   "source": [
    "import glob\n",
    "import io\n",
    "import ipyleaflet\n",
    "import IPython.display\n",
    "import ipyvolume.pylab as p3\n",
    "import json\n",
    "import matplotlib.cm\n",
    "import matplotlib.pyplot as plt\n",
    "import numpy as np\n",
    "import os\n",
    "import pandas as pd\n",
    "import pdal\n",
    "import PIL\n",
    "import pyproj\n",
    "import requests\n",
    "import fiona\n",
    "import shapely.geometry\n",
    "import scipy.spatial\n",
    "import sys\n",
    "import urllib.request\n",
    "\n",
    "%load_ext autoreload\n",
    "%autoreload 2\n",
    "    \n",
    "sys.path.append('../src')\n",
    "from pcl_utils import local_max\n",
    "\n",
    "# Url for aerial imagery\n",
    "# IVaerial = \"https://geoservices.informatievlaanderen.be/raadpleegdiensten/ogw/wms?SERVICE=WMS&VERSION=1.3.0&REQUEST=GetMap&CRS=EPSG:31370&BBOX={0},{1},{2},{3}&WIDTH=512&HEIGHT=512&LAYERS=OGWRGB13_15VL&STYLES=default&FORMAT=image/png\"\n",
    "\n",
    "%matplotlib inline"
   ]
  },
  {
   "cell_type": "code",
   "execution_count": 2,
   "metadata": {},
   "outputs": [],
   "source": [
    "if not os.path.isdir(\"../data\"):\n",
    "    os.makedirs(\"../data\")\n",
    "lidar_filepath = \"/media/thistle/Passport/gis/nz/lidar/points.las\"\n",
    "lidar_filename = lidar_filepath.split(\"/\")[-1]\n",
    "if not os.path.isfile(\"../data/{}\".format(lidar_filename)):\n",
    "    subprocess.run([\"cp\", lidar_filepath, \"../data/\" + lidar_filename])"
   ]
  },
  {
   "cell_type": "code",
   "execution_count": 3,
   "metadata": {},
   "outputs": [
    {
     "data": {
      "text/plain": [
       "'../data/points.las'"
      ]
     },
     "execution_count": 3,
     "metadata": {},
     "output_type": "execute_result"
    }
   ],
   "source": [
    "file1 = os.path.join(\"../data/\", lidar_filename)\n",
    "file1"
   ]
  },
  {
   "cell_type": "code",
   "execution_count": 4,
   "metadata": {},
   "outputs": [
    {
     "name": "stdout",
     "output_type": "stream",
     "text": [
      "{\r\n",
      "  \"filename\": \"../data/points.las\",\r\n",
      "  \"pdal_version\": \"2.0.1 (git-version: 6600e6)\",\r\n",
      "  \"stats\":\r\n",
      "  {\r\n",
      "    \"bbox\":\r\n",
      "    {\r\n",
      "      \"EPSG:4326\":\r\n",
      "      {\r\n",
      "        \"bbox\":\r\n",
      "        {\r\n",
      "          \"maxx\": 168.9006007,\r\n",
      "          \"maxy\": -45.02319144,\r\n",
      "          \"maxz\": 1404.07,\r\n",
      "          \"minx\": 168.8827652,\r\n",
      "          \"miny\": -45.04421912,\r\n",
      "          \"minz\": 743.34\r\n",
      "        },\r\n",
      "        \"boundary\": \"{ \\\"type\\\": \\\"Polygon\\\", \\\"coordinates\\\": [ [ [ 168.882765235419242, -45.043629006137671, 743.34 ], [ 168.884232923863294, -45.023191441118541, 743.34 ], [ 168.90060069429228, -45.023781141785634, 1404.07 ], [ 168.899138802623753, -45.044219124827393, 1404.07 ], [ 168.882765235419242, -45.043629006137671, 743.34 ] ] ] }\"\r\n",
      "      },\r\n",
      "      \"native\":\r\n",
      "      {\r\n",
      "        \"bbox\":\r\n",
      "        {\r\n",
      "          \"maxx\": 1277038.29,\r\n",
      "          \"maxy\": 5006227.75,\r\n",
      "          \"maxz\": 1404.07,\r\n",
      "          \"minx\": 1275745.46,\r\n",
      "          \"miny\": 5003951.5,\r\n",
      "          \"minz\": 743.34\r\n",
      "        },\r\n",
      "        \"boundary\": \"{ \\\"type\\\": \\\"Polygon\\\", \\\"coordinates\\\": [ [ [ 1275745.46, 5003951.5, 743.34 ], [ 1275745.46, 5006227.75, 743.34 ], [ 1277038.29, 5006227.75, 1404.07 ], [ 1277038.29, 5003951.5, 1404.07 ], [ 1275745.46, 5003951.5, 743.34 ] ] ] }\"\r\n",
      "      }\r\n",
      "    },\r\n",
      "    \"statistic\":\r\n",
      "    [\r\n",
      "      {\r\n",
      "        \"average\": 1276561.587,\r\n",
      "        \"count\": 6727923,\r\n",
      "        \"maximum\": 1277038.29,\r\n",
      "        \"minimum\": 1275745.46,\r\n",
      "        \"name\": \"X\",\r\n",
      "        \"position\": 0,\r\n",
      "        \"stddev\": 575.6314692,\r\n",
      "        \"variance\": 331351.5884\r\n",
      "      },\r\n",
      "      {\r\n",
      "        \"average\": 5005217.851,\r\n",
      "        \"count\": 6727923,\r\n",
      "        \"maximum\": 5006227.75,\r\n",
      "        \"minimum\": 5003951.5,\r\n",
      "        \"name\": \"Y\",\r\n",
      "        \"position\": 1,\r\n",
      "        \"stddev\": 1996.720055,\r\n",
      "        \"variance\": 3986890.979\r\n",
      "      },\r\n",
      "      {\r\n",
      "        \"average\": 1034.604534,\r\n",
      "        \"count\": 6727923,\r\n",
      "        \"maximum\": 1404.07,\r\n",
      "        \"minimum\": 743.34,\r\n",
      "        \"name\": \"Z\",\r\n",
      "        \"position\": 2,\r\n",
      "        \"stddev\": 150.741606,\r\n",
      "        \"variance\": 22723.03178\r\n",
      "      },\r\n",
      "      {\r\n",
      "        \"average\": 32.91506324,\r\n",
      "        \"count\": 6727923,\r\n",
      "        \"maximum\": 152,\r\n",
      "        \"minimum\": 1,\r\n",
      "        \"name\": \"Intensity\",\r\n",
      "        \"position\": 3,\r\n",
      "        \"stddev\": 11.68720298,\r\n",
      "        \"variance\": 136.5907135\r\n",
      "      },\r\n",
      "      {\r\n",
      "        \"average\": 1.019771629,\r\n",
      "        \"count\": 6727923,\r\n",
      "        \"maximum\": 4,\r\n",
      "        \"minimum\": 1,\r\n",
      "        \"name\": \"ReturnNumber\",\r\n",
      "        \"position\": 4,\r\n",
      "        \"stddev\": 0.1449797345,\r\n",
      "        \"variance\": 0.02101912342\r\n",
      "      },\r\n",
      "      {\r\n",
      "        \"average\": 1.044520872,\r\n",
      "        \"count\": 6727923,\r\n",
      "        \"maximum\": 4,\r\n",
      "        \"minimum\": 1,\r\n",
      "        \"name\": \"NumberOfReturns\",\r\n",
      "        \"position\": 5,\r\n",
      "        \"stddev\": 0.2194423451,\r\n",
      "        \"variance\": 0.04815494284\r\n",
      "      },\r\n",
      "      {\r\n",
      "        \"average\": 0.5004443422,\r\n",
      "        \"count\": 6727923,\r\n",
      "        \"maximum\": 1,\r\n",
      "        \"minimum\": 0,\r\n",
      "        \"name\": \"ScanDirectionFlag\",\r\n",
      "        \"position\": 6,\r\n",
      "        \"stddev\": 0.5000005021,\r\n",
      "        \"variance\": 0.2500005021\r\n",
      "      },\r\n",
      "      {\r\n",
      "        \"average\": 7.134445504e-06,\r\n",
      "        \"count\": 6727923,\r\n",
      "        \"maximum\": 1,\r\n",
      "        \"minimum\": 0,\r\n",
      "        \"name\": \"EdgeOfFlightLine\",\r\n",
      "        \"position\": 7,\r\n",
      "        \"stddev\": 0.002671029235,\r\n",
      "        \"variance\": 7.134397173e-06\r\n",
      "      },\r\n",
      "      {\r\n",
      "        \"average\": 1.780005508,\r\n",
      "        \"count\": 6727923,\r\n",
      "        \"maximum\": 2,\r\n",
      "        \"minimum\": 1,\r\n",
      "        \"name\": \"Classification\",\r\n",
      "        \"position\": 8,\r\n",
      "        \"stddev\": 0.4142434273,\r\n",
      "        \"variance\": 0.1715976171\r\n",
      "      },\r\n",
      "      {\r\n",
      "        \"average\": -0.2407178263,\r\n",
      "        \"count\": 6727923,\r\n",
      "        \"maximum\": 8,\r\n",
      "        \"minimum\": -10,\r\n",
      "        \"name\": \"ScanAngleRank\",\r\n",
      "        \"position\": 9,\r\n",
      "        \"stddev\": 4.289022726,\r\n",
      "        \"variance\": 18.39571595\r\n",
      "      },\r\n",
      "      {\r\n",
      "        \"average\": 0,\r\n",
      "        \"count\": 6727923,\r\n",
      "        \"maximum\": 0,\r\n",
      "        \"minimum\": 0,\r\n",
      "        \"name\": \"UserData\",\r\n",
      "        \"position\": 10,\r\n",
      "        \"stddev\": 0,\r\n",
      "        \"variance\": 0\r\n",
      "      },\r\n",
      "      {\r\n",
      "        \"average\": 59.01287336,\r\n",
      "        \"count\": 6727923,\r\n",
      "        \"maximum\": 71,\r\n",
      "        \"minimum\": 42,\r\n",
      "        \"name\": \"PointSourceId\",\r\n",
      "        \"position\": 11,\r\n",
      "        \"stddev\": 7.032663976,\r\n",
      "        \"variance\": 49.4583626\r\n",
      "      },\r\n",
      "      {\r\n",
      "        \"average\": 259166.0826,\r\n",
      "        \"count\": 6727923,\r\n",
      "        \"maximum\": 266418.6861,\r\n",
      "        \"minimum\": 255290.5406,\r\n",
      "        \"name\": \"GpsTime\",\r\n",
      "        \"position\": 12,\r\n",
      "        \"stddev\": 4818.850361,\r\n",
      "        \"variance\": 23221318.8\r\n",
      "      }\r\n",
      "    ]\r\n",
      "  }\r\n",
      "}\r\n"
     ]
    }
   ],
   "source": [
    "!pdal info $file1"
   ]
  },
  {
   "cell_type": "code",
   "execution_count": null,
   "metadata": {},
   "outputs": [],
   "source": []
  },
  {
   "cell_type": "code",
   "execution_count": null,
   "metadata": {},
   "outputs": [],
   "source": []
  },
  {
   "cell_type": "code",
   "execution_count": null,
   "metadata": {},
   "outputs": [],
   "source": []
  },
  {
   "cell_type": "code",
   "execution_count": null,
   "metadata": {},
   "outputs": [],
   "source": []
  },
  {
   "cell_type": "code",
   "execution_count": null,
   "metadata": {},
   "outputs": [],
   "source": []
  },
  {
   "cell_type": "code",
   "execution_count": null,
   "metadata": {},
   "outputs": [],
   "source": []
  },
  {
   "cell_type": "code",
   "execution_count": null,
   "metadata": {},
   "outputs": [],
   "source": []
  },
  {
   "cell_type": "code",
   "execution_count": null,
   "metadata": {},
   "outputs": [],
   "source": []
  },
  {
   "cell_type": "code",
   "execution_count": null,
   "metadata": {},
   "outputs": [],
   "source": []
  },
  {
   "cell_type": "code",
   "execution_count": 5,
   "metadata": {},
   "outputs": [],
   "source": [
    "# arial imagery aquired from \n",
    "# https://data.linz.govt.nz/layer/51910-otago-075m-rural-aerial-photos-2004-2011/\n",
    "# @ resolution 0.5\n",
    "#"
   ]
  },
  {
   "cell_type": "raw",
   "metadata": {},
   "source": [
    "The Data comprises:\n",
    "• 3,886 x ortho-rectified RGB GeoTIFF images in NZTM projection, tiled into the LINZ Standard 1:10,000 tile layout\n",
    "•Tile layout in NZTM projection containing relevant information.\n",
    "\n",
    "The supplied imagery is in terms of New Zealand Transverse Mercator (NZTM) map projection EPSG:2193 || NZGD2000\n"
   ]
  },
  {
   "cell_type": "raw",
   "metadata": {},
   "source": [
    "# this dont work in Jupyter lab\n",
    "m = ipyleaflet.Map(center=(-45.033, 168.892), zoom=12)\n",
    "dc = ipyleaflet.DrawControl()\n",
    "m.add_control(dc)\n",
    "m"
   ]
  },
  {
   "cell_type": "code",
   "execution_count": 6,
   "metadata": {},
   "outputs": [],
   "source": [
    "# skipping the polygon clipping b/c I only have 6 million points anyway\n"
   ]
  },
  {
   "cell_type": "markdown",
   "metadata": {},
   "source": [
    "dc.last_draw"
   ]
  },
  {
   "cell_type": "markdown",
   "metadata": {},
   "source": [
    "# CONVERT THE LONG/LAT VALUES INTO EPSG:2193\n",
    "wsg84 = pyproj.Proj(init='epsg:4326')\n",
    "nzgd = pyproj.Proj(init=\"epsg:2193\")"
   ]
  },
  {
   "cell_type": "markdown",
   "metadata": {},
   "source": [
    "coords = [pyproj.transform(wsg84, nzgd, x, y) for (x,y) in dc.last_draw['geometry']['coordinates'][0]]\n",
    "poly = shapely.geometry.Polygon(coords)"
   ]
  },
  {
   "cell_type": "markdown",
   "metadata": {},
   "source": [
    "dc.last_draw['geometry']['coordinates'][0]"
   ]
  },
  {
   "cell_type": "markdown",
   "metadata": {},
   "source": [
    "coords"
   ]
  },
  {
   "cell_type": "markdown",
   "metadata": {},
   "source": [
    "poly.wkt"
   ]
  },
  {
   "cell_type": "markdown",
   "metadata": {},
   "source": [
    "poly.bounds"
   ]
  },
  {
   "cell_type": "markdown",
   "metadata": {},
   "source": [
    "poly"
   ]
  },
  {
   "cell_type": "code",
   "execution_count": 7,
   "metadata": {},
   "outputs": [
    {
     "data": {
      "text/plain": [
       "'../data/points.las'"
      ]
     },
     "execution_count": 7,
     "metadata": {},
     "output_type": "execute_result"
    }
   ],
   "source": [
    "file1"
   ]
  },
  {
   "cell_type": "code",
   "execution_count": 27,
   "metadata": {},
   "outputs": [],
   "source": [
    "## make a hillshade of my points.las file\n",
    "file_in = \"../data/points.las\"\n",
    "file_out = \"../data/points_ground.las\""
   ]
  },
  {
   "cell_type": "code",
   "execution_count": 42,
   "metadata": {},
   "outputs": [],
   "source": [
    "pipeline_1 = {\n",
    "  \"pipeline\": [\n",
    "      {   \"type\": \"readers.las\",\n",
    "          \"filename\": file_in\n",
    "      },\n",
    "      {    \"type\":\"filters.outlier\",\n",
    "           \"method\":\"statistical\",\n",
    "           \"mean_k\":\"8\",\n",
    "           \"multiplier\":\"3\"\n",
    "      },\n",
    "      {\n",
    "          \"type\":\"filters.smrf\"\n",
    "      },\n",
    "      {\n",
    "          \"type\":\"filters.range\",\n",
    "          \"limits\":\"Classification[2:2]\"\n",
    "      },\n",
    "      {\n",
    "          \"type\":\"filters.delaunay\"\n",
    "      },\n",
    "      {\n",
    "          \"type\": \"writers.las\",\n",
    "          \"filename\": file_out\n",
    "      }\n",
    "  ]}"
   ]
  },
  {
   "cell_type": "code",
   "execution_count": 43,
   "metadata": {},
   "outputs": [
    {
     "data": {
      "text/plain": [
       "True"
      ]
     },
     "execution_count": 43,
     "metadata": {},
     "output_type": "execute_result"
    }
   ],
   "source": [
    "pipeline = pdal.Pipeline(json.dumps(pipeline_1))\n",
    "pipeline.validate()"
   ]
  },
  {
   "cell_type": "code",
   "execution_count": 44,
   "metadata": {},
   "outputs": [
    {
     "name": "stdout",
     "output_type": "stream",
     "text": [
      "6450501 points processed\n",
      "CPU times: user 1min 55s, sys: 673 ms, total: 1min 56s\n",
      "Wall time: 1min 56s\n"
     ]
    }
   ],
   "source": [
    "%%time\n",
    "np = pipeline.execute()\n",
    "print(f\"{np} points processed\")"
   ]
  },
  {
   "cell_type": "code",
   "execution_count": 33,
   "metadata": {},
   "outputs": [],
   "source": [
    "# write to tif and use gdal for hs"
   ]
  },
  {
   "cell_type": "code",
   "execution_count": 116,
   "metadata": {},
   "outputs": [],
   "source": [
    "pipe2 = {\n",
    "    \"pipeline\":[\n",
    "        {\n",
    "            \"type\":\"readers.las\",\n",
    "            \"filename\":file_in\n",
    "        },\n",
    "        {\n",
    "            \"type\":\"writers.gdal\",\n",
    "            \"filename\":\"../data/nz1.tif\",\n",
    "            \"output_type\":\"all\",\n",
    "            \"resolution\":\"2.0\"\n",
    "        }\n",
    "        \n",
    "    ]\n",
    "}"
   ]
  },
  {
   "cell_type": "code",
   "execution_count": 117,
   "metadata": {},
   "outputs": [
    {
     "ename": "RuntimeError",
     "evalue": "Unable to open stream for '' with error 'No such file or directory'",
     "output_type": "error",
     "traceback": [
      "\u001b[0;31m---------------------------------------------------------------------------\u001b[0m",
      "\u001b[0;31mRuntimeError\u001b[0m                              Traceback (most recent call last)",
      "\u001b[0;32m<ipython-input-117-bd6835138aea>\u001b[0m in \u001b[0;36m<module>\u001b[0;34m\u001b[0m\n\u001b[1;32m      1\u001b[0m \u001b[0mpip3\u001b[0m \u001b[0;34m=\u001b[0m \u001b[0mpdal\u001b[0m\u001b[0;34m.\u001b[0m\u001b[0mPipeline\u001b[0m\u001b[0;34m(\u001b[0m\u001b[0mjson\u001b[0m\u001b[0;34m.\u001b[0m\u001b[0mdumps\u001b[0m\u001b[0;34m(\u001b[0m\u001b[0mpipe2\u001b[0m\u001b[0;34m)\u001b[0m\u001b[0;34m)\u001b[0m\u001b[0;34m\u001b[0m\u001b[0;34m\u001b[0m\u001b[0m\n\u001b[0;32m----> 2\u001b[0;31m \u001b[0mpip3\u001b[0m\u001b[0;34m.\u001b[0m\u001b[0mvalidate\u001b[0m\u001b[0;34m(\u001b[0m\u001b[0;34m)\u001b[0m\u001b[0;34m\u001b[0m\u001b[0;34m\u001b[0m\u001b[0m\n\u001b[0m",
      "\u001b[0;32m~/anaconda3/envs/lab-pcp-env/lib/python3.7/site-packages/pdal/pipeline.py\u001b[0m in \u001b[0;36mvalidate\u001b[0;34m(self)\u001b[0m\n\u001b[1;32m     41\u001b[0m \u001b[0;34m\u001b[0m\u001b[0m\n\u001b[1;32m     42\u001b[0m     \u001b[0;32mdef\u001b[0m \u001b[0mvalidate\u001b[0m\u001b[0;34m(\u001b[0m\u001b[0mself\u001b[0m\u001b[0;34m)\u001b[0m\u001b[0;34m:\u001b[0m\u001b[0;34m\u001b[0m\u001b[0;34m\u001b[0m\u001b[0m\n\u001b[0;32m---> 43\u001b[0;31m         \u001b[0;32mreturn\u001b[0m \u001b[0mself\u001b[0m\u001b[0;34m.\u001b[0m\u001b[0mp\u001b[0m\u001b[0;34m.\u001b[0m\u001b[0mvalidate\u001b[0m\u001b[0;34m(\u001b[0m\u001b[0;34m)\u001b[0m\u001b[0;34m\u001b[0m\u001b[0;34m\u001b[0m\u001b[0m\n\u001b[0m\u001b[1;32m     44\u001b[0m \u001b[0;34m\u001b[0m\u001b[0m\n\u001b[1;32m     45\u001b[0m     \u001b[0;32mdef\u001b[0m \u001b[0mget_arrays\u001b[0m\u001b[0;34m(\u001b[0m\u001b[0mself\u001b[0m\u001b[0;34m)\u001b[0m\u001b[0;34m:\u001b[0m\u001b[0;34m\u001b[0m\u001b[0;34m\u001b[0m\u001b[0m\n",
      "\u001b[0;32mpdal/libpdalpython.pyx\u001b[0m in \u001b[0;36mpdal.libpdalpython.PyPipeline.validate\u001b[0;34m()\u001b[0m\n",
      "\u001b[0;31mRuntimeError\u001b[0m: Unable to open stream for '' with error 'No such file or directory'"
     ]
    }
   ],
   "source": [
    "pip3 = pdal.Pipeline(json.dumps(pipe2))\n",
    "pip3.validate()"
   ]
  },
  {
   "cell_type": "code",
   "execution_count": 47,
   "metadata": {},
   "outputs": [
    {
     "name": "stdout",
     "output_type": "stream",
     "text": [
      "6727923 points processed\n",
      "CPU times: user 3.07 s, sys: 80.7 ms, total: 3.15 s\n",
      "Wall time: 3.14 s\n"
     ]
    }
   ],
   "source": [
    "%%time\n",
    "np = p3.execute()\n",
    "print(f\"{np} points processed\")"
   ]
  },
  {
   "cell_type": "code",
   "execution_count": 48,
   "metadata": {},
   "outputs": [
    {
     "name": "stdout",
     "output_type": "stream",
     "text": [
      "0...10...20...30...40...50...60...70...80...90...100 - done.\r\n"
     ]
    }
   ],
   "source": [
    "!gdaldem hillshade ../data/nz1.tif ../data/nz1_hs.tif -z 1.0 -s 1.0 -az 315.0 -alt 45.0 -of GTiff"
   ]
  },
  {
   "cell_type": "code",
   "execution_count": 41,
   "metadata": {},
   "outputs": [],
   "source": [
    "# !Damn looks good"
   ]
  },
  {
   "cell_type": "code",
   "execution_count": null,
   "metadata": {},
   "outputs": [],
   "source": [
    "# use qgis to select a polygon of interest to filter the .las file with"
   ]
  },
  {
   "cell_type": "code",
   "execution_count": 10,
   "metadata": {},
   "outputs": [],
   "source": [
    "# maybe in this shapefile from qgis is my ticket\n",
    "foi = \"/home/thistle/Desktop/play.shp\""
   ]
  },
  {
   "cell_type": "code",
   "execution_count": 11,
   "metadata": {},
   "outputs": [
    {
     "name": "stdout",
     "output_type": "stream",
     "text": [
      "{'type': 'Feature', 'id': '0', 'properties': OrderedDict([('site', 'depression')]), 'geometry': {'type': 'Polygon', 'coordinates': [[(1276805.6063636364, 5004650.172954545), (1277006.743409091, 5004468.062386364), (1277001.3072727274, 5004106.559318182), (1276930.6375, 5004068.506363636), (1276577.2886363636, 5004462.62625), (1276677.857159091, 5004647.454886364), (1276805.6063636364, 5004650.172954545)]]}}\n"
     ]
    },
    {
     "name": "stderr",
     "output_type": "stream",
     "text": [
      "/home/thistle/anaconda3/envs/lab-pcp-env/lib/python3.7/site-packages/ipykernel_launcher.py:2: FionaDeprecationWarning: Collection.__next__() is buggy and will be removed in Fiona 2.0. Switch to `next(iter(collection))`.\n",
      "  \n"
     ]
    }
   ],
   "source": [
    "with fiona.open(foi) as f:\n",
    "    temp = f.next()\n",
    "    print(temp)"
   ]
  },
  {
   "cell_type": "code",
   "execution_count": 12,
   "metadata": {},
   "outputs": [
    {
     "data": {
      "text/plain": [
       "[(1276805.6063636364, 5004650.172954545),\n",
       " (1277006.743409091, 5004468.062386364),\n",
       " (1277001.3072727274, 5004106.559318182),\n",
       " (1276930.6375, 5004068.506363636),\n",
       " (1276577.2886363636, 5004462.62625),\n",
       " (1276677.857159091, 5004647.454886364),\n",
       " (1276805.6063636364, 5004650.172954545)]"
      ]
     },
     "execution_count": 12,
     "metadata": {},
     "output_type": "execute_result"
    }
   ],
   "source": [
    "coords_aoi1 = temp['geometry']['coordinates'][0]\n",
    "coords_aoi1"
   ]
  },
  {
   "cell_type": "code",
   "execution_count": 63,
   "metadata": {},
   "outputs": [],
   "source": [
    "#!pdal info $file_in"
   ]
  },
  {
   "cell_type": "code",
   "execution_count": 13,
   "metadata": {},
   "outputs": [
    {
     "name": "stdout",
     "output_type": "stream",
     "text": [
      "(1276577.2886363636, 5004068.506363636, 1277006.743409091, 5004650.172954545)\n"
     ]
    }
   ],
   "source": [
    "p1 = shapely.geometry.Polygon(coords_aoi1)\n",
    "print(p1.bounds)"
   ]
  },
  {
   "cell_type": "code",
   "execution_count": 14,
   "metadata": {},
   "outputs": [],
   "source": [
    "# so clip 6million pt .las file by the polygon-->p1\n",
    "# first try with bounds \n",
    "# next with a Polygon.wkt\n"
   ]
  },
  {
   "cell_type": "code",
   "execution_count": 15,
   "metadata": {},
   "outputs": [
    {
     "data": {
      "text/plain": [
       "(1276577.2886363636, 5004068.506363636, 1277006.743409091, 5004650.172954545)"
      ]
     },
     "execution_count": 15,
     "metadata": {},
     "output_type": "execute_result"
    }
   ],
   "source": [
    "t = p1.bounds\n",
    "t"
   ]
  },
  {
   "cell_type": "raw",
   "metadata": {},
   "source": [
    "bounds needs to be in following format\n",
    "\n",
    "\"bounds\":\"([0,1000000],[0,1000000])\""
   ]
  },
  {
   "cell_type": "code",
   "execution_count": 16,
   "metadata": {},
   "outputs": [
    {
     "data": {
      "text/plain": [
       "'([1276577.2886363636, 1277006.743409091], [5004068.506363636, 5004650.172954545])'"
      ]
     },
     "execution_count": 16,
     "metadata": {},
     "output_type": "execute_result"
    }
   ],
   "source": [
    "proper_format_bounds = ([t[0], t[2]], [t[1], t[3]])\n",
    "str(proper_format_bounds)"
   ]
  },
  {
   "cell_type": "code",
   "execution_count": 17,
   "metadata": {},
   "outputs": [
    {
     "name": "stdout",
     "output_type": "stream",
     "text": [
      "total 234376\r\n",
      "drwxr-xr-x 2 thistle thistle      4096 May  7 16:59 .\r\n",
      "drwxr-xr-x 9 thistle thistle      4096 Apr 13 16:02 ..\r\n",
      "-rw-r--r-- 1 thistle thistle       321 May  4 23:58 las2yxz.json\r\n",
      "-rw-r--r-- 1 thistle thistle  51588931 Apr 13 16:12 LiDAR_DHMV_2_P4_ATL12431_ES_20140325_31195_2_150500_166500.las\r\n",
      "-rwxr-xr-x 1 thistle thistle 188382453 May  5 11:38 points.las\r\n",
      "-rw-r--r-- 1 thistle thistle       223 May  5 08:21 yxz2las.json\r\n",
      "-rw-r--r-- 1 thistle thistle       222 May  5 08:24 yxz2xyz.json\r\n"
     ]
    }
   ],
   "source": [
    "!ls -al ../data"
   ]
  },
  {
   "cell_type": "code",
   "execution_count": 18,
   "metadata": {},
   "outputs": [
    {
     "data": {
      "text/plain": [
       "([1276577.2886363636, 1277006.743409091],\n",
       " [5004068.506363636, 5004650.172954545])"
      ]
     },
     "execution_count": 18,
     "metadata": {},
     "output_type": "execute_result"
    }
   ],
   "source": [
    "proper_format_bounds"
   ]
  },
  {
   "cell_type": "code",
   "execution_count": 19,
   "metadata": {},
   "outputs": [],
   "source": [
    "file_in = \"/home/thistle/Documents/dev/ML/gis_project/data/points.las\"\n",
    "\n",
    "file_out1 = \"../data/clipped_las.las\"\n",
    "file_out2 = \"../data/clipped_dem.tif\""
   ]
  },
  {
   "cell_type": "code",
   "execution_count": 20,
   "metadata": {},
   "outputs": [
    {
     "data": {
      "text/plain": [
       "'../data/clipped_dem.tif'"
      ]
     },
     "execution_count": 20,
     "metadata": {},
     "output_type": "execute_result"
    }
   ],
   "source": [
    "file_out2"
   ]
  },
  {
   "cell_type": "code",
   "execution_count": 21,
   "metadata": {},
   "outputs": [],
   "source": [
    "## this works for cropping by rect bounds\n",
    "# see below if by polygon\n",
    "\n",
    "pipeline_final = {\n",
    "  \"pipeline\": [\n",
    "      {   \"type\": \"readers.las\",\n",
    "          \"filename\": file_in\n",
    "      },\n",
    "      {\n",
    "          \"type\":\"filters.crop\",\n",
    "          \"bounds\": str(proper_format_bounds)\n",
    "      },\n",
    "      {\n",
    "          \"type\": \"writers.las\",\n",
    "          \"filename\": file_out1\n",
    "      },\n",
    "      {    \"type\":\"filters.outlier\",\n",
    "           \"method\":\"statistical\",\n",
    "           \"mean_k\":\"8\",\n",
    "           \"multiplier\":\"3\"\n",
    "      },\n",
    "      {\n",
    "          \"type\":\"filters.smrf\"\n",
    "      },\n",
    "      {\n",
    "          \"type\":\"filters.range\",\n",
    "          \"limits\":\"Classification[2:2]\"\n",
    "      },\n",
    "      {\n",
    "          \"type\":\"filters.delaunay\"\n",
    "      },\n",
    "      {\n",
    "            \"type\": \"writers.gdal\",\n",
    "            \"gdaldriver\": \"GTIFF\",\n",
    "            \"output_type\": \"all\",\n",
    "            \"resolution\": \"2.0\",\n",
    "            \"filename\": file_out2\n",
    "      }\n",
    "  ]}"
   ]
  },
  {
   "cell_type": "code",
   "execution_count": 23,
   "metadata": {},
   "outputs": [
    {
     "data": {
      "text/plain": [
       "True"
      ]
     },
     "execution_count": 23,
     "metadata": {},
     "output_type": "execute_result"
    }
   ],
   "source": [
    "pipeline3 = pdal.Pipeline(json.dumps(pipeline_final))\n",
    "pipeline3.validate()"
   ]
  },
  {
   "cell_type": "code",
   "execution_count": 24,
   "metadata": {},
   "outputs": [],
   "source": [
    "## full pipeline"
   ]
  },
  {
   "cell_type": "code",
   "execution_count": 25,
   "metadata": {},
   "outputs": [
    {
     "name": "stdout",
     "output_type": "stream",
     "text": [
      "756671 pts processed\n",
      "CPU times: user 10.1 s, sys: 205 ms, total: 10.3 s\n",
      "Wall time: 10.2 s\n"
     ]
    }
   ],
   "source": [
    "%%time\n",
    "np = pipeline3.execute()\n",
    "print(f\"{np} pts processed\")"
   ]
  },
  {
   "cell_type": "code",
   "execution_count": 143,
   "metadata": {},
   "outputs": [],
   "source": [
    "## sweet\n"
   ]
  },
  {
   "cell_type": "code",
   "execution_count": 26,
   "metadata": {},
   "outputs": [
    {
     "name": "stdout",
     "output_type": "stream",
     "text": [
      "0...10...20...30...40...50...60...70...80...90...100 - done.\r\n"
     ]
    }
   ],
   "source": [
    "!gdaldem hillshade ../data/clipped_dem.tif ../data/clipped_hs.tif -z 1.0 -s 1.0 -az 315.0 -alt 45.0 -of GTiff"
   ]
  },
  {
   "cell_type": "code",
   "execution_count": 40,
   "metadata": {
    "scrolled": true
   },
   "outputs": [
    {
     "name": "stdout",
     "output_type": "stream",
     "text": [
      "{'type': 'Feature', 'id': '0', 'properties': OrderedDict([('site', 'depression')]), 'geometry': {'type': 'Polygon', 'coordinates': [[(1276805.6063636364, 5004650.172954545), (1277006.743409091, 5004468.062386364), (1277001.3072727274, 5004106.559318182), (1276930.6375, 5004068.506363636), (1276577.2886363636, 5004462.62625), (1276677.857159091, 5004647.454886364), (1276805.6063636364, 5004650.172954545)]]}}\n"
     ]
    }
   ],
   "source": [
    "with fiona.open(foi) as f:\n",
    "    print(f[0])"
   ]
  },
  {
   "cell_type": "code",
   "execution_count": 48,
   "metadata": {},
   "outputs": [],
   "source": [
    "with fiona.open(foi) as f:\n",
    "    temp = f[0]['geometry']['coordinates'][0]"
   ]
  },
  {
   "cell_type": "code",
   "execution_count": 62,
   "metadata": {},
   "outputs": [
    {
     "data": {
      "text/plain": [
       "[(1276805.6063636364, 5004650.172954545),\n",
       " (1277006.743409091, 5004468.062386364),\n",
       " (1277001.3072727274, 5004106.559318182),\n",
       " (1276930.6375, 5004068.506363636),\n",
       " (1276577.2886363636, 5004462.62625),\n",
       " (1276677.857159091, 5004647.454886364),\n",
       " (1276805.6063636364, 5004650.172954545)]"
      ]
     },
     "execution_count": 62,
     "metadata": {},
     "output_type": "execute_result"
    }
   ],
   "source": [
    "temp"
   ]
  },
  {
   "cell_type": "code",
   "execution_count": 51,
   "metadata": {},
   "outputs": [],
   "source": [
    "## actually -- The clipping polygon, expressed in a well-known text string, is needed"
   ]
  },
  {
   "cell_type": "code",
   "execution_count": 53,
   "metadata": {},
   "outputs": [],
   "source": [
    "p1 = shapely.geometry.Polygon(temp)"
   ]
  },
  {
   "cell_type": "code",
   "execution_count": 55,
   "metadata": {},
   "outputs": [
    {
     "data": {
      "text/plain": [
       "'POLYGON ((1276805.6063636364415288 5004650.1729545453563333, 1277006.7434090909082443 5004468.0623863637447357, 1277001.3072727273683995 5004106.5593181820586324, 1276930.6374999999534339 5004068.5063636358827353, 1276577.2886363635770977 5004462.6262499997392297, 1276677.8571590909268707 5004647.4548863638192415, 1276805.6063636364415288 5004650.1729545453563333))'"
      ]
     },
     "execution_count": 55,
     "metadata": {},
     "output_type": "execute_result"
    }
   ],
   "source": [
    "p1.to_wkt()"
   ]
  },
  {
   "cell_type": "code",
   "execution_count": null,
   "metadata": {},
   "outputs": [],
   "source": []
  },
  {
   "cell_type": "code",
   "execution_count": 57,
   "metadata": {},
   "outputs": [],
   "source": [
    "## this one for polygon shape\n",
    "pipeline_final_poly = {\n",
    "  \"pipeline\": [\n",
    "      {   \"type\": \"readers.las\",\n",
    "          \"filename\": file_in\n",
    "      },\n",
    "      {\n",
    "          \"type\":\"filters.crop\",\n",
    "          \"polygon\": p1.to_wkt()\n",
    "      },\n",
    "      {\n",
    "          \"type\": \"writers.las\",\n",
    "          \"filename\": file_out1\n",
    "      },\n",
    "      {    \"type\":\"filters.outlier\",\n",
    "           \"method\":\"statistical\",\n",
    "           \"mean_k\":\"8\",\n",
    "           \"multiplier\":\"3\"\n",
    "      },\n",
    "      {\n",
    "          \"type\":\"filters.smrf\"\n",
    "      },\n",
    "      {\n",
    "          \"type\":\"filters.range\",\n",
    "          \"limits\":\"Classification[2:2]\"\n",
    "      },\n",
    "      {\n",
    "          \"type\":\"filters.delaunay\"\n",
    "      },\n",
    "      {\n",
    "            \"type\": \"writers.gdal\",\n",
    "            \"gdaldriver\": \"GTIFF\",\n",
    "            \"output_type\": \"all\",\n",
    "            \"resolution\": \"2.0\",\n",
    "            \"filename\": file_out2\n",
    "      }\n",
    "  ]}\n"
   ]
  },
  {
   "cell_type": "code",
   "execution_count": 60,
   "metadata": {},
   "outputs": [
    {
     "data": {
      "text/plain": [
       "True"
      ]
     },
     "execution_count": 60,
     "metadata": {},
     "output_type": "execute_result"
    }
   ],
   "source": [
    "pipeline_cp = pdal.Pipeline(json.dumps(pipeline_final_poly))\n",
    "pipeline_cp.validate()"
   ]
  },
  {
   "cell_type": "code",
   "execution_count": 61,
   "metadata": {},
   "outputs": [
    {
     "name": "stdout",
     "output_type": "stream",
     "text": [
      "553807 points processed\n",
      "CPU times: user 8.61 s, sys: 147 ms, total: 8.75 s\n",
      "Wall time: 8.76 s\n"
     ]
    }
   ],
   "source": [
    "%%time\n",
    "np = pipeline_cp.execute()\n",
    "print(f\"{np} points processed\")"
   ]
  },
  {
   "cell_type": "code",
   "execution_count": null,
   "metadata": {},
   "outputs": [],
   "source": []
  },
  {
   "cell_type": "code",
   "execution_count": null,
   "metadata": {},
   "outputs": [],
   "source": []
  },
  {
   "cell_type": "code",
   "execution_count": null,
   "metadata": {},
   "outputs": [],
   "source": []
  },
  {
   "cell_type": "code",
   "execution_count": null,
   "metadata": {},
   "outputs": [],
   "source": []
  },
  {
   "cell_type": "code",
   "execution_count": null,
   "metadata": {},
   "outputs": [],
   "source": []
  },
  {
   "cell_type": "code",
   "execution_count": null,
   "metadata": {},
   "outputs": [],
   "source": []
  },
  {
   "cell_type": "code",
   "execution_count": null,
   "metadata": {},
   "outputs": [],
   "source": []
  },
  {
   "cell_type": "code",
   "execution_count": null,
   "metadata": {},
   "outputs": [],
   "source": []
  },
  {
   "cell_type": "code",
   "execution_count": 67,
   "metadata": {},
   "outputs": [
    {
     "data": {
      "text/plain": [
       "'POLYGON ((1276805.6063636364415288 5004650.1729545453563333, 1277006.7434090909082443 5004468.0623863637447357, 1277001.3072727273683995 5004106.5593181820586324, 1276930.6374999999534339 5004068.5063636358827353, 1276577.2886363635770977 5004462.6262499997392297, 1276677.8571590909268707 5004647.4548863638192415, 1276805.6063636364415288 5004650.1729545453563333))'"
      ]
     },
     "execution_count": 67,
     "metadata": {},
     "output_type": "execute_result"
    }
   ],
   "source": [
    "p1.to_wkt()"
   ]
  },
  {
   "cell_type": "code",
   "execution_count": 101,
   "metadata": {},
   "outputs": [
    {
     "data": {
      "text/plain": [
       "[('X', '<f8'),\n",
       " ('Y', '<f8'),\n",
       " ('Z', '<f8'),\n",
       " ('Intensity', '<u2'),\n",
       " ('ReturnNumber', '|u1'),\n",
       " ('NumberOfReturns', '|u1'),\n",
       " ('ScanDirectionFlag', '|u1'),\n",
       " ('EdgeOfFlightLine', '|u1'),\n",
       " ('Classification', '|u1'),\n",
       " ('ScanAngleRank', '<f4'),\n",
       " ('UserData', '|u1'),\n",
       " ('PointSourceId', '<u2'),\n",
       " ('GpsTime', '<f8')]"
      ]
     },
     "execution_count": 101,
     "metadata": {},
     "output_type": "execute_result"
    }
   ],
   "source": [
    "arr = pipeline3.arrays[0]\n",
    "description = arr.dtype.descr\n",
    "description"
   ]
  },
  {
   "cell_type": "code",
   "execution_count": 102,
   "metadata": {},
   "outputs": [],
   "source": [
    "cols = [col for col, _ in description]\n",
    "df=pd.DataFrame({col: arr[col] for col in cols})"
   ]
  },
  {
   "cell_type": "code",
   "execution_count": 103,
   "metadata": {},
   "outputs": [
    {
     "data": {
      "text/plain": [
       "((756671,), (756671, 13))"
      ]
     },
     "execution_count": 103,
     "metadata": {},
     "output_type": "execute_result"
    }
   ],
   "source": [
    "arr.shape, df.shape"
   ]
  },
  {
   "cell_type": "code",
   "execution_count": 104,
   "metadata": {},
   "outputs": [
    {
     "data": {
      "text/html": [
       "<div>\n",
       "<style scoped>\n",
       "    .dataframe tbody tr th:only-of-type {\n",
       "        vertical-align: middle;\n",
       "    }\n",
       "\n",
       "    .dataframe tbody tr th {\n",
       "        vertical-align: top;\n",
       "    }\n",
       "\n",
       "    .dataframe thead th {\n",
       "        text-align: right;\n",
       "    }\n",
       "</style>\n",
       "<table border=\"1\" class=\"dataframe\">\n",
       "  <thead>\n",
       "    <tr style=\"text-align: right;\">\n",
       "      <th></th>\n",
       "      <th>X</th>\n",
       "      <th>Y</th>\n",
       "      <th>Z</th>\n",
       "      <th>Intensity</th>\n",
       "      <th>ReturnNumber</th>\n",
       "      <th>NumberOfReturns</th>\n",
       "      <th>ScanDirectionFlag</th>\n",
       "      <th>EdgeOfFlightLine</th>\n",
       "      <th>Classification</th>\n",
       "      <th>ScanAngleRank</th>\n",
       "      <th>UserData</th>\n",
       "      <th>PointSourceId</th>\n",
       "      <th>GpsTime</th>\n",
       "    </tr>\n",
       "  </thead>\n",
       "  <tbody>\n",
       "    <tr>\n",
       "      <th>0</th>\n",
       "      <td>1276623.54</td>\n",
       "      <td>5004319.41</td>\n",
       "      <td>908.42</td>\n",
       "      <td>25</td>\n",
       "      <td>1</td>\n",
       "      <td>1</td>\n",
       "      <td>1</td>\n",
       "      <td>0</td>\n",
       "      <td>2</td>\n",
       "      <td>7.0</td>\n",
       "      <td>0</td>\n",
       "      <td>42</td>\n",
       "      <td>255290.540573</td>\n",
       "    </tr>\n",
       "    <tr>\n",
       "      <th>1</th>\n",
       "      <td>1276624.56</td>\n",
       "      <td>5004317.98</td>\n",
       "      <td>907.81</td>\n",
       "      <td>29</td>\n",
       "      <td>1</td>\n",
       "      <td>1</td>\n",
       "      <td>1</td>\n",
       "      <td>0</td>\n",
       "      <td>2</td>\n",
       "      <td>7.0</td>\n",
       "      <td>0</td>\n",
       "      <td>42</td>\n",
       "      <td>255290.561432</td>\n",
       "    </tr>\n",
       "    <tr>\n",
       "      <th>2</th>\n",
       "      <td>1276624.78</td>\n",
       "      <td>5004318.47</td>\n",
       "      <td>907.94</td>\n",
       "      <td>27</td>\n",
       "      <td>1</td>\n",
       "      <td>1</td>\n",
       "      <td>1</td>\n",
       "      <td>0</td>\n",
       "      <td>2</td>\n",
       "      <td>7.0</td>\n",
       "      <td>0</td>\n",
       "      <td>42</td>\n",
       "      <td>255290.561439</td>\n",
       "    </tr>\n",
       "    <tr>\n",
       "      <th>3</th>\n",
       "      <td>1276625.01</td>\n",
       "      <td>5004318.97</td>\n",
       "      <td>907.99</td>\n",
       "      <td>28</td>\n",
       "      <td>1</td>\n",
       "      <td>1</td>\n",
       "      <td>1</td>\n",
       "      <td>0</td>\n",
       "      <td>2</td>\n",
       "      <td>7.0</td>\n",
       "      <td>0</td>\n",
       "      <td>42</td>\n",
       "      <td>255290.561445</td>\n",
       "    </tr>\n",
       "    <tr>\n",
       "      <th>4</th>\n",
       "      <td>1276625.28</td>\n",
       "      <td>5004318.72</td>\n",
       "      <td>907.90</td>\n",
       "      <td>30</td>\n",
       "      <td>1</td>\n",
       "      <td>1</td>\n",
       "      <td>0</td>\n",
       "      <td>0</td>\n",
       "      <td>2</td>\n",
       "      <td>7.0</td>\n",
       "      <td>0</td>\n",
       "      <td>42</td>\n",
       "      <td>255290.566687</td>\n",
       "    </tr>\n",
       "  </tbody>\n",
       "</table>\n",
       "</div>"
      ],
      "text/plain": [
       "            X           Y       Z  Intensity  ReturnNumber  NumberOfReturns  \\\n",
       "0  1276623.54  5004319.41  908.42         25             1                1   \n",
       "1  1276624.56  5004317.98  907.81         29             1                1   \n",
       "2  1276624.78  5004318.47  907.94         27             1                1   \n",
       "3  1276625.01  5004318.97  907.99         28             1                1   \n",
       "4  1276625.28  5004318.72  907.90         30             1                1   \n",
       "\n",
       "   ScanDirectionFlag  EdgeOfFlightLine  Classification  ScanAngleRank  \\\n",
       "0                  1                 0               2            7.0   \n",
       "1                  1                 0               2            7.0   \n",
       "2                  1                 0               2            7.0   \n",
       "3                  1                 0               2            7.0   \n",
       "4                  0                 0               2            7.0   \n",
       "\n",
       "   UserData  PointSourceId        GpsTime  \n",
       "0         0             42  255290.540573  \n",
       "1         0             42  255290.561432  \n",
       "2         0             42  255290.561439  \n",
       "3         0             42  255290.561445  \n",
       "4         0             42  255290.566687  "
      ]
     },
     "execution_count": 104,
     "metadata": {},
     "output_type": "execute_result"
    }
   ],
   "source": [
    "df.head()"
   ]
  },
  {
   "cell_type": "code",
   "execution_count": 109,
   "metadata": {},
   "outputs": [
    {
     "data": {
      "text/plain": [
       "756671"
      ]
     },
     "execution_count": 109,
     "metadata": {},
     "output_type": "execute_result"
    }
   ],
   "source": [
    "# what is percentage of ground points\n",
    "# (df.Classification == 2)\n",
    "df.shape[0] # .78"
   ]
  },
  {
   "cell_type": "code",
   "execution_count": 110,
   "metadata": {},
   "outputs": [],
   "source": [
    "df[\"X_o\"] = df['X']\n",
    "df['Y_o'] = df[\"Y\"]\n",
    "df[\"Z_o\"] = df[\"Z\"]\n",
    "\n",
    "df['X'] = df['X'] - df['X_o'].min()\n",
    "df['Y'] = df['Y'] - df['Y_o'].min()\n",
    "df['Z'] = df['Z'] - df['Z_o'].min()"
   ]
  },
  {
   "cell_type": "code",
   "execution_count": 119,
   "metadata": {},
   "outputs": [
    {
     "data": {
      "text/plain": [
       "Index(['X', 'Y', 'Z', 'Intensity', 'ReturnNumber', 'NumberOfReturns',\n",
       "       'ScanDirectionFlag', 'EdgeOfFlightLine', 'Classification',\n",
       "       'ScanAngleRank', 'UserData', 'PointSourceId', 'GpsTime', 'X_o', 'Y_o',\n",
       "       'Z_o'],\n",
       "      dtype='object')"
      ]
     },
     "execution_count": 119,
     "metadata": {},
     "output_type": "execute_result"
    }
   ],
   "source": [
    "df.columns"
   ]
  },
  {
   "cell_type": "code",
   "execution_count": 120,
   "metadata": {},
   "outputs": [
    {
     "name": "stdout",
     "output_type": "stream",
     "text": [
      "(1276623.54, 5004319.41, 908.42, 25, 1, 1, 1, 0, 2, 7., 0, 42, 255290.54057291)\n"
     ]
    }
   ],
   "source": [
    "t = arr[0]\n",
    "print(t)"
   ]
  },
  {
   "cell_type": "code",
   "execution_count": 121,
   "metadata": {},
   "outputs": [
    {
     "data": {
      "application/vnd.jupyter.widget-view+json": {
       "model_id": "818541a1893740ed9bb630cac5a96163",
       "version_major": 2,
       "version_minor": 0
      },
      "text/plain": [
       "VBox(children=(Figure(camera=PerspectiveCamera(fov=46.0, position=(0.0, 0.0, 2.0), quaternion=(0.0, 0.0, 0.0, …"
      ]
     },
     "metadata": {},
     "output_type": "display_data"
    }
   ],
   "source": [
    "fig = p3.figure(width=1000)\n",
    "fig.xlabel='Y'\n",
    "fig.ylabel='Z'\n",
    "fig.zlabel='X'\n",
    "all_points = p3.scatter(df['Y'], df['Z'], df['X'], color='red', size=.2)\n",
    "p3.squarelim()\n",
    "p3.show()"
   ]
  },
  {
   "cell_type": "code",
   "execution_count": 114,
   "metadata": {},
   "outputs": [
    {
     "data": {
      "text/plain": [
       "'../data/points_ground.las'"
      ]
     },
     "execution_count": 114,
     "metadata": {},
     "output_type": "execute_result"
    }
   ],
   "source": [
    "# now classify grounds\n",
    "file_in = \"\"\n",
    "file_out"
   ]
  },
  {
   "cell_type": "code",
   "execution_count": null,
   "metadata": {},
   "outputs": [],
   "source": []
  },
  {
   "cell_type": "code",
   "execution_count": null,
   "metadata": {},
   "outputs": [],
   "source": []
  },
  {
   "cell_type": "code",
   "execution_count": null,
   "metadata": {},
   "outputs": [],
   "source": []
  },
  {
   "cell_type": "code",
   "execution_count": 18,
   "metadata": {},
   "outputs": [],
   "source": [
    "# practice dem by following tutorial at\n",
    "# https://pdal.io/workshop/exercises/analysis/dtm/dtm.html"
   ]
  },
  {
   "cell_type": "code",
   "execution_count": 26,
   "metadata": {},
   "outputs": [],
   "source": [
    "# first identify ground"
   ]
  },
  {
   "cell_type": "code",
   "execution_count": 27,
   "metadata": {},
   "outputs": [],
   "source": [
    "foi = \"/home/thistle/Documents/dev/ML/gis/lidar_nbs/pdal_workshop/data/exercises/analysis/ground/CSite1_orig-utm.laz\""
   ]
  },
  {
   "cell_type": "code",
   "execution_count": 38,
   "metadata": {},
   "outputs": [],
   "source": [
    "p1 = {\n",
    "  \"pipeline\": [\n",
    "      {   \"type\": \"readers.las\",\n",
    "          \"filename\": foi\n",
    "      },\n",
    "      {\n",
    "          \"type\":\"filters.smrf\"\n",
    "      },\n",
    "      {\n",
    "          \"type\":\"filters.range\",\n",
    "          \"limits\":\"Classification[2:2]\"\n",
    "      },\n",
    "      {\n",
    "          \"type\": \"writers.las\",\n",
    "          \"filename\": \"../data/ground_only.laz\"\n",
    "      }\n",
    "  ]}"
   ]
  },
  {
   "cell_type": "code",
   "execution_count": 39,
   "metadata": {},
   "outputs": [
    {
     "data": {
      "text/plain": [
       "True"
      ]
     },
     "execution_count": 39,
     "metadata": {},
     "output_type": "execute_result"
    }
   ],
   "source": [
    "pipe1 = pdal.Pipeline(json.dumps(p1))\n",
    "pipe1.validate()"
   ]
  },
  {
   "cell_type": "code",
   "execution_count": 40,
   "metadata": {},
   "outputs": [
    {
     "name": "stdout",
     "output_type": "stream",
     "text": [
      "pipeline- pipe1 classified 386067 points\n",
      "CPU times: user 6.89 s, sys: 8.01 ms, total: 6.9 s\n",
      "Wall time: 6.88 s\n"
     ]
    }
   ],
   "source": [
    "%%time\n",
    "np = pipe1.execute()\n",
    "print(f\"pipeline- pipe1 classified {np} points\")"
   ]
  },
  {
   "cell_type": "raw",
   "metadata": {},
   "source": [
    "The primary input for Digital Terrain Model generation is a point cloud with ground vs. not-ground classifications. In this example, we will use an algorithm provided by PDAL, the Simple Morphological Filter technique to generate a ground surface."
   ]
  },
  {
   "cell_type": "raw",
   "metadata": {},
   "source": [
    "In this invocation, we have more control over the process. First the outlier filter merely classifies outliers with a Classification value of 7. These outliers are then ignored during SMRF processing with the ignore option. Finally, we add a range filter to extract only the ground returns (i.e., Classification value of 2)."
   ]
  },
  {
   "cell_type": "code",
   "execution_count": 61,
   "metadata": {},
   "outputs": [],
   "source": [
    "p2 = {\n",
    "  \"pipeline\": [\n",
    "      {   \"type\": \"readers.las\",\n",
    "          \"filename\": foi\n",
    "      },\n",
    "      {    \"type\":\"filters.outlier\",\n",
    "           \"method\":\"statistical\",\n",
    "           \"mean_k\":\"8\",\n",
    "           \"multiplier\":\"3\"\n",
    "      },\n",
    "      {\n",
    "          \"type\":\"filters.smrf\"\n",
    "      },\n",
    "      {\n",
    "          \"type\":\"filters.range\",\n",
    "          \"limits\":\"Classification[2:2]\"\n",
    "      },\n",
    "      {\n",
    "          \"type\": \"writers.las\",\n",
    "          \"filename\": \"../data/ground_only.laz\"\n",
    "      }\n",
    "  ]}"
   ]
  },
  {
   "cell_type": "code",
   "execution_count": 62,
   "metadata": {},
   "outputs": [
    {
     "data": {
      "text/plain": [
       "True"
      ]
     },
     "execution_count": 62,
     "metadata": {},
     "output_type": "execute_result"
    }
   ],
   "source": [
    "pipe2 = pdal.Pipeline(json.dumps(p2))\n",
    "pipe2.validate()"
   ]
  },
  {
   "cell_type": "code",
   "execution_count": 63,
   "metadata": {},
   "outputs": [
    {
     "name": "stdout",
     "output_type": "stream",
     "text": [
      "CPU times: user 17.3 s, sys: 35.8 ms, total: 17.4 s\n",
      "Wall time: 17.3 s\n"
     ]
    },
    {
     "data": {
      "text/plain": [
       "386067"
      ]
     },
     "execution_count": 63,
     "metadata": {},
     "output_type": "execute_result"
    }
   ],
   "source": [
    "%%time\n",
    "pipe2.execute()"
   ]
  },
  {
   "cell_type": "code",
   "execution_count": null,
   "metadata": {},
   "outputs": [],
   "source": []
  },
  {
   "cell_type": "code",
   "execution_count": 64,
   "metadata": {},
   "outputs": [],
   "source": [
    "# with ground classified as --\n",
    "infile = \"../data/ground_only.laz\"\n",
    "outfile = \"../data/dem1.tif\"\n",
    "\n",
    "p3 = {\n",
    "    \"pipeline\":[\n",
    "        {   \"type\":\"readers.las\",\n",
    "            \"filename\": infile\n",
    "        },\n",
    "        {\n",
    "            \"type\": \"writers.gdal\",\n",
    "            \"gdaldriver\": \"GTIFF\",\n",
    "            \"output_type\": \"all\",\n",
    "            \"resolution\": \"2.0\",\n",
    "            \"filename\": outfile\n",
    "        }\n",
    "    ]\n",
    "}"
   ]
  },
  {
   "cell_type": "code",
   "execution_count": 65,
   "metadata": {},
   "outputs": [
    {
     "data": {
      "text/plain": [
       "True"
      ]
     },
     "execution_count": 65,
     "metadata": {},
     "output_type": "execute_result"
    }
   ],
   "source": [
    "pipe3 = pdal.Pipeline(json.dumps(p3))\n",
    "pipe3.validate()"
   ]
  },
  {
   "cell_type": "code",
   "execution_count": 67,
   "metadata": {},
   "outputs": [
    {
     "name": "stdout",
     "output_type": "stream",
     "text": [
      "pipe 3 processed 386067 points\n"
     ]
    }
   ],
   "source": [
    "np = pipe3.execute()\n",
    "print(f\"pipe 3 processed {np} points\")"
   ]
  },
  {
   "cell_type": "code",
   "execution_count": null,
   "metadata": {},
   "outputs": [],
   "source": []
  },
  {
   "cell_type": "code",
   "execution_count": 81,
   "metadata": {},
   "outputs": [],
   "source": [
    "p4 = {\n",
    "  \"pipeline\": [\n",
    "      {   \"type\": \"readers.las\",\n",
    "          \"filename\": foi\n",
    "      },\n",
    "      {    \"type\":\"filters.outlier\",\n",
    "           \"method\":\"statistical\",\n",
    "           \"mean_k\":\"8\",\n",
    "           \"multiplier\":\"3\"\n",
    "      },\n",
    "      {\n",
    "          \"type\":\"filters.smrf\"\n",
    "      },\n",
    "      {\n",
    "          \"type\":\"filters.range\",\n",
    "          \"limits\":\"Classification[2:2]\"\n",
    "      },\n",
    "      {\n",
    "          \"type\": \"filters.poisson\",\n",
    "          \"depth\": \"16\"\n",
    "      },\n",
    "      {\n",
    "          \"type\": \"writers.las\",\n",
    "          \"filename\": \"../data/ground_mesh.laz\"\n",
    "      }\n",
    "  ]}"
   ]
  },
  {
   "cell_type": "code",
   "execution_count": 82,
   "metadata": {},
   "outputs": [
    {
     "data": {
      "text/plain": [
       "True"
      ]
     },
     "execution_count": 82,
     "metadata": {},
     "output_type": "execute_result"
    }
   ],
   "source": [
    "pipe4 = pdal.Pipeline(json.dumps(p4))\n",
    "pipe4.validate()"
   ]
  },
  {
   "cell_type": "code",
   "execution_count": null,
   "metadata": {},
   "outputs": [],
   "source": [
    "%%time\n",
    "np = pipe4.execute()\n",
    "print(f\"pipe4 processed {np} points\")"
   ]
  },
  {
   "cell_type": "code",
   "execution_count": 78,
   "metadata": {},
   "outputs": [],
   "source": [
    "# with ground classified as --\n",
    "infile = \"../data/ground_mesh.laz\"\n",
    "outfile = \"../data/dem2_mesh.tif\"\n",
    "\n",
    "p5 = {\n",
    "    \"pipeline\":[\n",
    "        {   \"type\":\"readers.las\",\n",
    "            \"filename\": infile\n",
    "        },\n",
    "        {\n",
    "            \"type\": \"writers.gdal\",\n",
    "            \"gdaldriver\": \"GTIFF\",\n",
    "            \"output_type\": \"all\",\n",
    "            \"resolution\": \"2.0\",\n",
    "            \"filename\": outfile\n",
    "        }\n",
    "    ]\n",
    "}"
   ]
  },
  {
   "cell_type": "code",
   "execution_count": 79,
   "metadata": {},
   "outputs": [
    {
     "data": {
      "text/plain": [
       "True"
      ]
     },
     "execution_count": 79,
     "metadata": {},
     "output_type": "execute_result"
    }
   ],
   "source": [
    "pipe5 = pdal.Pipeline(json.dumps(p5))\n",
    "pipe5.validate()"
   ]
  },
  {
   "cell_type": "code",
   "execution_count": 80,
   "metadata": {},
   "outputs": [
    {
     "ename": "RuntimeError",
     "evalue": "writers.gdal: Grid width or height is too large. Width and height are limited to 2147483647 cells.Try setting bounds or increasing resolution.",
     "output_type": "error",
     "traceback": [
      "\u001b[0;31m---------------------------------------------------------------------------\u001b[0m",
      "\u001b[0;31mRuntimeError\u001b[0m                              Traceback (most recent call last)",
      "\u001b[0;32m<ipython-input-80-90a110caf4aa>\u001b[0m in \u001b[0;36m<module>\u001b[0;34m\u001b[0m\n\u001b[0;32m----> 1\u001b[0;31m \u001b[0mnp\u001b[0m \u001b[0;34m=\u001b[0m \u001b[0mpipe5\u001b[0m\u001b[0;34m.\u001b[0m\u001b[0mexecute\u001b[0m\u001b[0;34m(\u001b[0m\u001b[0;34m)\u001b[0m\u001b[0;34m\u001b[0m\u001b[0;34m\u001b[0m\u001b[0m\n\u001b[0m\u001b[1;32m      2\u001b[0m \u001b[0mprint\u001b[0m\u001b[0;34m(\u001b[0m\u001b[0;34mf\"{np} points processed\"\u001b[0m\u001b[0;34m)\u001b[0m\u001b[0;34m\u001b[0m\u001b[0;34m\u001b[0m\u001b[0m\n",
      "\u001b[0;32m~/anaconda3/envs/lab-pcp-env/lib/python3.7/site-packages/pdal/pipeline.py\u001b[0m in \u001b[0;36mexecute\u001b[0;34m(self)\u001b[0m\n\u001b[1;32m     38\u001b[0m \u001b[0;34m\u001b[0m\u001b[0m\n\u001b[1;32m     39\u001b[0m     \u001b[0;32mdef\u001b[0m \u001b[0mexecute\u001b[0m\u001b[0;34m(\u001b[0m\u001b[0mself\u001b[0m\u001b[0;34m)\u001b[0m\u001b[0;34m:\u001b[0m\u001b[0;34m\u001b[0m\u001b[0;34m\u001b[0m\u001b[0m\n\u001b[0;32m---> 40\u001b[0;31m         \u001b[0;32mreturn\u001b[0m \u001b[0mself\u001b[0m\u001b[0;34m.\u001b[0m\u001b[0mp\u001b[0m\u001b[0;34m.\u001b[0m\u001b[0mexecute\u001b[0m\u001b[0;34m(\u001b[0m\u001b[0;34m)\u001b[0m\u001b[0;34m\u001b[0m\u001b[0;34m\u001b[0m\u001b[0m\n\u001b[0m\u001b[1;32m     41\u001b[0m \u001b[0;34m\u001b[0m\u001b[0m\n\u001b[1;32m     42\u001b[0m     \u001b[0;32mdef\u001b[0m \u001b[0mvalidate\u001b[0m\u001b[0;34m(\u001b[0m\u001b[0mself\u001b[0m\u001b[0;34m)\u001b[0m\u001b[0;34m:\u001b[0m\u001b[0;34m\u001b[0m\u001b[0;34m\u001b[0m\u001b[0m\n",
      "\u001b[0;32mpdal/libpdalpython.pyx\u001b[0m in \u001b[0;36mpdal.libpdalpython.PyPipeline.execute\u001b[0;34m()\u001b[0m\n",
      "\u001b[0;31mRuntimeError\u001b[0m: writers.gdal: Grid width or height is too large. Width and height are limited to 2147483647 cells.Try setting bounds or increasing resolution."
     ]
    }
   ],
   "source": [
    "np = pipe5.execute()\n",
    "print(f\"{np} points processed\")"
   ]
  },
  {
   "cell_type": "code",
   "execution_count": 19,
   "metadata": {},
   "outputs": [],
   "source": []
  },
  {
   "cell_type": "code",
   "execution_count": 23,
   "metadata": {},
   "outputs": [],
   "source": [
    "pipeline2 = {\n",
    "  \"pipeline\": [\n",
    "    {   \"type\": \"readers.las\",\n",
    "        \"filename\": foi\n",
    "    },\n",
    "    {\n",
    "        \"filename\":\"./dtm.tif\",\n",
    "        \"gdaldriver\":\"GTiff\",\n",
    "        \"output_type\":\"all\",\n",
    "        \"resolution\":\"2.0\",\n",
    "        \"type\": \"writers.gdal\"\n",
    "    }\n",
    "  ]\n",
    "}"
   ]
  },
  {
   "cell_type": "code",
   "execution_count": 25,
   "metadata": {},
   "outputs": [
    {
     "data": {
      "text/plain": [
       "'{\"pipeline\": [{\"type\": \"readers.las\", \"filename\": \"/home/thistle/Documents/dev/ML/gis/lidar_nbs/pdal_workshop/data/exercises/analysis/ground/CSite1_orig-utm.laz\"}, {\"filename\": \"./dtm.tif\", \"gdaldriver\": \"GTiff\", \"output_type\": \"all\", \"resolution\": \"2.0\", \"type\": \"writers.gdal\"}]}'"
      ]
     },
     "execution_count": 25,
     "metadata": {},
     "output_type": "execute_result"
    }
   ],
   "source": [
    "json.dumps(pipeline2)"
   ]
  },
  {
   "cell_type": "code",
   "execution_count": null,
   "metadata": {},
   "outputs": [],
   "source": []
  },
  {
   "cell_type": "code",
   "execution_count": 20,
   "metadata": {},
   "outputs": [
    {
     "ename": "NameError",
     "evalue": "name 'pipeline2' is not defined",
     "output_type": "error",
     "traceback": [
      "\u001b[0;31m---------------------------------------------------------------------------\u001b[0m",
      "\u001b[0;31mNameError\u001b[0m                                 Traceback (most recent call last)",
      "\u001b[0;32m<ipython-input-20-704aa48b6a53>\u001b[0m in \u001b[0;36m<module>\u001b[0;34m\u001b[0m\n\u001b[0;32m----> 1\u001b[0;31m \u001b[0mpipeline2\u001b[0m\u001b[0;34m\u001b[0m\u001b[0;34m\u001b[0m\u001b[0m\n\u001b[0m",
      "\u001b[0;31mNameError\u001b[0m: name 'pipeline2' is not defined"
     ]
    }
   ],
   "source": [
    "pipeline2"
   ]
  },
  {
   "cell_type": "code",
   "execution_count": null,
   "metadata": {},
   "outputs": [],
   "source": []
  },
  {
   "cell_type": "code",
   "execution_count": null,
   "metadata": {},
   "outputs": [],
   "source": []
  },
  {
   "cell_type": "code",
   "execution_count": null,
   "metadata": {},
   "outputs": [],
   "source": []
  },
  {
   "cell_type": "code",
   "execution_count": null,
   "metadata": {},
   "outputs": [],
   "source": []
  },
  {
   "cell_type": "code",
   "execution_count": null,
   "metadata": {},
   "outputs": [],
   "source": []
  },
  {
   "cell_type": "code",
   "execution_count": null,
   "metadata": {},
   "outputs": [],
   "source": []
  },
  {
   "cell_type": "code",
   "execution_count": null,
   "metadata": {},
   "outputs": [],
   "source": []
  },
  {
   "cell_type": "code",
   "execution_count": null,
   "metadata": {},
   "outputs": [],
   "source": []
  },
  {
   "cell_type": "code",
   "execution_count": null,
   "metadata": {},
   "outputs": [],
   "source": []
  },
  {
   "cell_type": "code",
   "execution_count": null,
   "metadata": {},
   "outputs": [],
   "source": []
  },
  {
   "cell_type": "code",
   "execution_count": 92,
   "metadata": {},
   "outputs": [
    {
     "name": "stdout",
     "output_type": "stream",
     "text": [
      "--2020-05-05 09:00:13--  https://coast.noaa.gov/htdata/lidar1_z/geoid12b/data/5008/20131013_usgs_olympic_wa_10TDT310990.laz\n",
      "Resolving coast.noaa.gov (coast.noaa.gov)... 40.70.244.79\n",
      "Connecting to coast.noaa.gov (coast.noaa.gov)|40.70.244.79|:443... connected.\n",
      "HTTP request sent, awaiting response... 200 OK\n",
      "Length: 154367893 (147M)\n",
      "Saving to: ‘20131013_usgs_olympic_wa_10TDT310990.laz’\n",
      "\n",
      "20131013_usgs_olymp 100%[===================>] 147.22M  2.11MB/s    in 79s     \n",
      "\n",
      "2020-05-05 09:01:33 (1.87 MB/s) - ‘20131013_usgs_olympic_wa_10TDT310990.laz’ saved [154367893/154367893]\n",
      "\n"
     ]
    }
   ],
   "source": [
    "!wget https://coast.noaa.gov/htdata/lidar1_z/geoid12b/data/5008/20131013_usgs_olympic_wa_10TDT310990.laz"
   ]
  },
  {
   "cell_type": "code",
   "execution_count": 94,
   "metadata": {},
   "outputs": [
    {
     "name": "stdout",
     "output_type": "stream",
     "text": [
      "{\n",
      "  \"filename\": \"20131013_usgs_olympic_wa_10TDT310990.laz\",\n",
      "  \"pdal_version\": \"2.0.1 (git-version: 6600e6)\",\n",
      "  \"stats\":\n",
      "  {\n",
      "    \"bbox\":\n",
      "    {\n",
      "      \"EPSG:4326\":\n",
      "      {\n",
      "        \"bbox\":\n",
      "        {\n",
      "          \"maxx\": -123.9087921,\n",
      "          \"maxy\": 47.84974467,\n",
      "          \"maxz\": 827.8,\n",
      "          \"minx\": -123.9223131,\n",
      "          \"miny\": 47.84064237,\n",
      "          \"minz\": 248.19\n",
      "        },\n",
      "        \"boundary\": \"{ \\\"type\\\": \\\"Polygon\\\", \\\"coordinates\\\": [ [ [ -123.92231306998066, 47.84064240131174, 248.19 ], [ -123.92231308412525, 47.849744665763467, 248.19 ], [ -123.908792107284668, 47.849744639972428, 827.8 ], [ -123.908792092693716, 47.840642374490734, 827.8 ], [ -123.92231306998066, 47.84064240131174, 248.19 ] ] ] }\"\n",
      "      },\n",
      "      \"native\":\n",
      "      {\n",
      "        \"bbox\":\n",
      "        {\n",
      "          \"maxx\": -123.9087939,\n",
      "          \"maxy\": 47.8497435,\n",
      "          \"maxz\": 827.8,\n",
      "          \"minx\": -123.9223149,\n",
      "          \"miny\": 47.8406412,\n",
      "          \"minz\": 248.19\n",
      "        },\n",
      "        \"boundary\": \"{ \\\"type\\\": \\\"Polygon\\\", \\\"coordinates\\\": [ [ [ -123.922314899999989, 47.8406412, 248.19 ], [ -123.922314899999989, 47.8497435, 248.19 ], [ -123.9087939, 47.8497435, 827.8 ], [ -123.9087939, 47.8406412, 827.8 ], [ -123.922314899999989, 47.8406412, 248.19 ] ] ] }\"\n",
      "      }\n",
      "    },\n",
      "    \"statistic\":\n",
      "    [\n",
      "      {\n",
      "        \"average\": -123.9157886,\n",
      "        \"count\": 25204541,\n",
      "        \"maximum\": -123.9087939,\n",
      "        \"minimum\": -123.9223149,\n",
      "        \"name\": \"X\",\n",
      "        \"position\": 0,\n",
      "        \"stddev\": 0.02497161092,\n",
      "        \"variance\": 0.0006235813518\n",
      "      },\n",
      "      {\n",
      "        \"average\": 47.8453699,\n",
      "        \"count\": 25204541,\n",
      "        \"maximum\": 47.8497435,\n",
      "        \"minimum\": 47.8406412,\n",
      "        \"name\": \"Y\",\n",
      "        \"position\": 1,\n",
      "        \"stddev\": 0.009856318866,\n",
      "        \"variance\": 9.714702159e-05\n",
      "      },\n",
      "      {\n",
      "        \"average\": 477.1911957,\n",
      "        \"count\": 25204541,\n",
      "        \"maximum\": 827.8,\n",
      "        \"minimum\": 248.19,\n",
      "        \"name\": \"Z\",\n",
      "        \"position\": 2,\n",
      "        \"stddev\": 129.8477111,\n",
      "        \"variance\": 16860.42809\n",
      "      },\n",
      "      {\n",
      "        \"average\": 63.67700209,\n",
      "        \"count\": 25204541,\n",
      "        \"maximum\": 253,\n",
      "        \"minimum\": 1,\n",
      "        \"name\": \"Intensity\",\n",
      "        \"position\": 3,\n",
      "        \"stddev\": 52.41170223,\n",
      "        \"variance\": 2746.986531\n",
      "      },\n",
      "      {\n",
      "        \"average\": 1.462775537,\n",
      "        \"count\": 25204541,\n",
      "        \"maximum\": 4,\n",
      "        \"minimum\": 1,\n",
      "        \"name\": \"ReturnNumber\",\n",
      "        \"position\": 4,\n",
      "        \"stddev\": 0.6784127071,\n",
      "        \"variance\": 0.4602438012\n",
      "      },\n",
      "      {\n",
      "        \"average\": 2.024781368,\n",
      "        \"count\": 25204541,\n",
      "        \"maximum\": 5,\n",
      "        \"minimum\": 1,\n",
      "        \"name\": \"NumberOfReturns\",\n",
      "        \"position\": 5,\n",
      "        \"stddev\": 0.9239117647,\n",
      "        \"variance\": 0.8536129489\n",
      "      },\n",
      "      {\n",
      "        \"average\": 0.4994023894,\n",
      "        \"count\": 25204541,\n",
      "        \"maximum\": 1,\n",
      "        \"minimum\": 0,\n",
      "        \"name\": \"ScanDirectionFlag\",\n",
      "        \"position\": 6,\n",
      "        \"stddev\": 0.4999998648,\n",
      "        \"variance\": 0.2499998648\n",
      "      },\n",
      "      {\n",
      "        \"average\": 0,\n",
      "        \"count\": 25204541,\n",
      "        \"maximum\": 0,\n",
      "        \"minimum\": 0,\n",
      "        \"name\": \"EdgeOfFlightLine\",\n",
      "        \"position\": 7,\n",
      "        \"stddev\": 0,\n",
      "        \"variance\": 0\n",
      "      },\n",
      "      {\n",
      "        \"average\": 1.031968842,\n",
      "        \"count\": 25204541,\n",
      "        \"maximum\": 2,\n",
      "        \"minimum\": 1,\n",
      "        \"name\": \"Classification\",\n",
      "        \"position\": 8,\n",
      "        \"stddev\": 0.1759173442,\n",
      "        \"variance\": 0.03094691199\n",
      "      },\n",
      "      {\n",
      "        \"average\": 2.332876405,\n",
      "        \"count\": 25204541,\n",
      "        \"maximum\": 22,\n",
      "        \"minimum\": -16,\n",
      "        \"name\": \"ScanAngleRank\",\n",
      "        \"position\": 9,\n",
      "        \"stddev\": 8.148813622,\n",
      "        \"variance\": 66.40316344\n",
      "      },\n",
      "      {\n",
      "        \"average\": 188.224941,\n",
      "        \"count\": 25204541,\n",
      "        \"maximum\": 225,\n",
      "        \"minimum\": 0,\n",
      "        \"name\": \"UserData\",\n",
      "        \"position\": 10,\n",
      "        \"stddev\": 35.34302101,\n",
      "        \"variance\": 1249.129134\n",
      "      },\n",
      "      {\n",
      "        \"average\": 866.8534647,\n",
      "        \"count\": 25204541,\n",
      "        \"maximum\": 1295,\n",
      "        \"minimum\": 414,\n",
      "        \"name\": \"PointSourceId\",\n",
      "        \"position\": 11,\n",
      "        \"stddev\": 429.8708302,\n",
      "        \"variance\": 184788.9306\n",
      "      },\n",
      "      {\n",
      "        \"average\": 70173405.85,\n",
      "        \"count\": 25204541,\n",
      "        \"maximum\": 74556338.87,\n",
      "        \"minimum\": 65733115.62,\n",
      "        \"name\": \"GpsTime\",\n",
      "        \"position\": 12,\n",
      "        \"stddev\": 4409436.73,\n",
      "        \"variance\": 1.944313228e+13\n",
      "      }\n",
      "    ]\n",
      "  }\n",
      "}\n"
     ]
    }
   ],
   "source": [
    "!pdal info \"20131013_usgs_olympic_wa_10TDT310990.laz\""
   ]
  },
  {
   "cell_type": "code",
   "execution_count": 97,
   "metadata": {},
   "outputs": [],
   "source": [
    "import subprocess\n",
    "import json"
   ]
  },
  {
   "cell_type": "code",
   "execution_count": 116,
   "metadata": {},
   "outputs": [],
   "source": [
    "result = subprocess.call(['pdal', \"info\", \"20131013_usgs_olympic_wa_10TDT310990.laz\"])\n"
   ]
  },
  {
   "cell_type": "code",
   "execution_count": 105,
   "metadata": {},
   "outputs": [
    {
     "data": {
      "text/plain": [
       "{'filename': '20131013_usgs_olympic_wa_10TDT310990.laz',\n",
       " 'pdal_version': '2.0.1 (git-version: 6600e6)',\n",
       " 'stats': {'bbox': {'EPSG:4326': {'bbox': {'maxx': -123.9087921,\n",
       "     'maxy': 47.84974467,\n",
       "     'maxz': 827.8,\n",
       "     'minx': -123.9223131,\n",
       "     'miny': 47.84064237,\n",
       "     'minz': 248.19},\n",
       "    'boundary': '{ \"type\": \"Polygon\", \"coordinates\": [ [ [ -123.92231306998066, 47.84064240131174, 248.19 ], [ -123.92231308412525, 47.849744665763467, 248.19 ], [ -123.908792107284668, 47.849744639972428, 827.8 ], [ -123.908792092693716, 47.840642374490734, 827.8 ], [ -123.92231306998066, 47.84064240131174, 248.19 ] ] ] }'},\n",
       "   'native': {'bbox': {'maxx': -123.9087939,\n",
       "     'maxy': 47.8497435,\n",
       "     'maxz': 827.8,\n",
       "     'minx': -123.9223149,\n",
       "     'miny': 47.8406412,\n",
       "     'minz': 248.19},\n",
       "    'boundary': '{ \"type\": \"Polygon\", \"coordinates\": [ [ [ -123.922314899999989, 47.8406412, 248.19 ], [ -123.922314899999989, 47.8497435, 248.19 ], [ -123.9087939, 47.8497435, 827.8 ], [ -123.9087939, 47.8406412, 827.8 ], [ -123.922314899999989, 47.8406412, 248.19 ] ] ] }'}},\n",
       "  'statistic': [{'average': -123.9157886,\n",
       "    'count': 25204541,\n",
       "    'maximum': -123.9087939,\n",
       "    'minimum': -123.9223149,\n",
       "    'name': 'X',\n",
       "    'position': 0,\n",
       "    'stddev': 0.02497161092,\n",
       "    'variance': 0.0006235813518},\n",
       "   {'average': 47.8453699,\n",
       "    'count': 25204541,\n",
       "    'maximum': 47.8497435,\n",
       "    'minimum': 47.8406412,\n",
       "    'name': 'Y',\n",
       "    'position': 1,\n",
       "    'stddev': 0.009856318866,\n",
       "    'variance': 9.714702159e-05},\n",
       "   {'average': 477.1911957,\n",
       "    'count': 25204541,\n",
       "    'maximum': 827.8,\n",
       "    'minimum': 248.19,\n",
       "    'name': 'Z',\n",
       "    'position': 2,\n",
       "    'stddev': 129.8477111,\n",
       "    'variance': 16860.42809},\n",
       "   {'average': 63.67700209,\n",
       "    'count': 25204541,\n",
       "    'maximum': 253,\n",
       "    'minimum': 1,\n",
       "    'name': 'Intensity',\n",
       "    'position': 3,\n",
       "    'stddev': 52.41170223,\n",
       "    'variance': 2746.986531},\n",
       "   {'average': 1.462775537,\n",
       "    'count': 25204541,\n",
       "    'maximum': 4,\n",
       "    'minimum': 1,\n",
       "    'name': 'ReturnNumber',\n",
       "    'position': 4,\n",
       "    'stddev': 0.6784127071,\n",
       "    'variance': 0.4602438012},\n",
       "   {'average': 2.024781368,\n",
       "    'count': 25204541,\n",
       "    'maximum': 5,\n",
       "    'minimum': 1,\n",
       "    'name': 'NumberOfReturns',\n",
       "    'position': 5,\n",
       "    'stddev': 0.9239117647,\n",
       "    'variance': 0.8536129489},\n",
       "   {'average': 0.4994023894,\n",
       "    'count': 25204541,\n",
       "    'maximum': 1,\n",
       "    'minimum': 0,\n",
       "    'name': 'ScanDirectionFlag',\n",
       "    'position': 6,\n",
       "    'stddev': 0.4999998648,\n",
       "    'variance': 0.2499998648},\n",
       "   {'average': 0,\n",
       "    'count': 25204541,\n",
       "    'maximum': 0,\n",
       "    'minimum': 0,\n",
       "    'name': 'EdgeOfFlightLine',\n",
       "    'position': 7,\n",
       "    'stddev': 0,\n",
       "    'variance': 0},\n",
       "   {'average': 1.031968842,\n",
       "    'count': 25204541,\n",
       "    'maximum': 2,\n",
       "    'minimum': 1,\n",
       "    'name': 'Classification',\n",
       "    'position': 8,\n",
       "    'stddev': 0.1759173442,\n",
       "    'variance': 0.03094691199},\n",
       "   {'average': 2.332876405,\n",
       "    'count': 25204541,\n",
       "    'maximum': 22,\n",
       "    'minimum': -16,\n",
       "    'name': 'ScanAngleRank',\n",
       "    'position': 9,\n",
       "    'stddev': 8.148813622,\n",
       "    'variance': 66.40316344},\n",
       "   {'average': 188.224941,\n",
       "    'count': 25204541,\n",
       "    'maximum': 225,\n",
       "    'minimum': 0,\n",
       "    'name': 'UserData',\n",
       "    'position': 10,\n",
       "    'stddev': 35.34302101,\n",
       "    'variance': 1249.129134},\n",
       "   {'average': 866.8534647,\n",
       "    'count': 25204541,\n",
       "    'maximum': 1295,\n",
       "    'minimum': 414,\n",
       "    'name': 'PointSourceId',\n",
       "    'position': 11,\n",
       "    'stddev': 429.8708302,\n",
       "    'variance': 184788.9306},\n",
       "   {'average': 70173405.85,\n",
       "    'count': 25204541,\n",
       "    'maximum': 74556338.87,\n",
       "    'minimum': 65733115.62,\n",
       "    'name': 'GpsTime',\n",
       "    'position': 12,\n",
       "    'stddev': 4409436.73,\n",
       "    'variance': 19443132280000.0}]}}"
      ]
     },
     "execution_count": 105,
     "metadata": {},
     "output_type": "execute_result"
    }
   ],
   "source": [
    "# result.stdout.decode()\n",
    "json.loads(result.stdout.decode())"
   ]
  },
  {
   "cell_type": "code",
   "execution_count": null,
   "metadata": {},
   "outputs": [],
   "source": []
  },
  {
   "cell_type": "code",
   "execution_count": null,
   "metadata": {},
   "outputs": [],
   "source": []
  },
  {
   "cell_type": "code",
   "execution_count": 33,
   "metadata": {},
   "outputs": [
    {
     "name": "stdout",
     "output_type": "stream",
     "text": [
      "/home/thistle/Documents/dev/ML/gis_project/notebooks\n"
     ]
    }
   ],
   "source": [
    "!pwd"
   ]
  },
  {
   "cell_type": "code",
   "execution_count": 87,
   "metadata": {},
   "outputs": [],
   "source": [
    "pipeline_string = \"\"\"{\n",
    "  \"pipeline\": [\n",
    "    {\n",
    "      \"type\": \"readers.las\",\n",
    "      \"filename\": \"/media/thistle/Passport/gis/nz/lidar/points.las\"\n",
    "    },\n",
    "    {\n",
    "      \"type\": \"writers.text\",\n",
    "      \"order\": \"Y,X,Z\",\n",
    "      \"keep_unspecified\": \"false\",\n",
    "      \"quote_header\": \"false\",\n",
    "      \"delimiter\": \",\",\n",
    "      \"filename\": \"output1.txt\"\n",
    "    }\n",
    "  ]\n",
    "}\"\"\"\n",
    "\n",
    "pipeline_string2 = \"\"\"{\n",
    "  \"pipeline\": [\n",
    "    {\n",
    "      \"type\": \"readers.text\",\n",
    "      \"filename\": \"output1.txt\",\n",
    "      \"header\": \"X, Y, Z\",\n",
    "      \"skip\":1\n",
    "    },\n",
    "    {\n",
    "      \"type\": \"writers.text\",\n",
    "      \"filename\": \"output2.txt\"\n",
    "      \n",
    "    }\n",
    "  ]\n",
    "}\"\"\""
   ]
  },
  {
   "cell_type": "code",
   "execution_count": 43,
   "metadata": {},
   "outputs": [],
   "source": [
    "with open(\"../data/las2yxz.json\", \"w\") as file:\n",
    "    file.write(pipeline_string)"
   ]
  },
  {
   "cell_type": "code",
   "execution_count": 88,
   "metadata": {},
   "outputs": [],
   "source": [
    "with open(\"../data/yxz2xyz.json\", \"w\") as file2:\n",
    "    file2.write(pipeline_string2)"
   ]
  },
  {
   "cell_type": "code",
   "execution_count": 69,
   "metadata": {
    "scrolled": true
   },
   "outputs": [
    {
     "name": "stdout",
     "output_type": "stream",
     "text": [
      "total 50400\n",
      "drwxr-xr-x 2 thistle thistle     4096 May  5 08:04 .\n",
      "drwxr-xr-x 9 thistle thistle     4096 Apr 13 16:02 ..\n",
      "-rw-r--r-- 1 thistle thistle      321 May  4 23:58 las2yxz.json\n",
      "-rw-r--r-- 1 thistle thistle 51588931 Apr 13 16:12 LiDAR_DHMV_2_P4_ATL12431_ES_20140325_31195_2_150500_166500.las\n",
      "-rw-r--r-- 1 thistle thistle      171 May  5 08:04 yxz2las2json\n"
     ]
    }
   ],
   "source": [
    "!ls -al ../data/"
   ]
  },
  {
   "cell_type": "code",
   "execution_count": 45,
   "metadata": {},
   "outputs": [],
   "source": [
    "# !more ../data/las2yxz.json"
   ]
  },
  {
   "cell_type": "code",
   "execution_count": 46,
   "metadata": {},
   "outputs": [],
   "source": [
    "!pdal pipeline ../data/las2yxz.json"
   ]
  },
  {
   "cell_type": "code",
   "execution_count": 90,
   "metadata": {},
   "outputs": [],
   "source": [
    "!pdal pipeline ../data/yxz2xyz.json"
   ]
  },
  {
   "cell_type": "code",
   "execution_count": 72,
   "metadata": {},
   "outputs": [
    {
     "name": "stdout",
     "output_type": "stream",
     "text": [
      "{\n",
      "  \"filename\": \"output1.las\",\n",
      "  \"pdal_version\": \"2.0.1 (git-version: 6600e6)\",\n",
      "  \"stats\":\n",
      "  {\n",
      "    \"bbox\":\n",
      "    {\n",
      "      \"native\":\n",
      "      {\n",
      "        \"bbox\":\n",
      "        {\n",
      "          \"maxx\": 1277038.29,\n",
      "          \"maxy\": 5006227.75,\n",
      "          \"maxz\": 1404.07,\n",
      "          \"minx\": 1275745.46,\n",
      "          \"miny\": 5003951.5,\n",
      "          \"minz\": 743.34\n",
      "        },\n",
      "        \"boundary\": \"{ \\\"type\\\": \\\"Polygon\\\", \\\"coordinates\\\": [ [ [ 1275745.46, 5003951.5, 743.34 ], [ 1275745.46, 5006227.75, 743.34 ], [ 1277038.29, 5006227.75, 1404.07 ], [ 1277038.29, 5003951.5, 1404.07 ], [ 1275745.46, 5003951.5, 743.34 ] ] ] }\"\n",
      "      }\n",
      "    },\n",
      "    \"statistic\":\n",
      "    [\n",
      "      {\n",
      "        \"average\": 1276561.587,\n",
      "        \"count\": 6727923,\n",
      "        \"maximum\": 1277038.29,\n",
      "        \"minimum\": 1275745.46,\n",
      "        \"name\": \"X\",\n",
      "        \"position\": 0,\n",
      "        \"stddev\": 575.6314692,\n",
      "        \"variance\": 331351.5884\n",
      "      },\n",
      "      {\n",
      "        \"average\": 5005217.851,\n",
      "        \"count\": 6727923,\n",
      "        \"maximum\": 5006227.75,\n",
      "        \"minimum\": 5003951.5,\n",
      "        \"name\": \"Y\",\n",
      "        \"position\": 1,\n",
      "        \"stddev\": 1996.720055,\n",
      "        \"variance\": 3986890.979\n",
      "      },\n",
      "      {\n",
      "        \"average\": 1034.604534,\n",
      "        \"count\": 6727923,\n",
      "        \"maximum\": 1404.07,\n",
      "        \"minimum\": 743.34,\n",
      "        \"name\": \"Z\",\n",
      "        \"position\": 2,\n",
      "        \"stddev\": 150.741606,\n",
      "        \"variance\": 22723.03178\n",
      "      },\n",
      "      {\n",
      "        \"average\": 0,\n",
      "        \"count\": 6727923,\n",
      "        \"maximum\": 0,\n",
      "        \"minimum\": 0,\n",
      "        \"name\": \"Intensity\",\n",
      "        \"position\": 3,\n",
      "        \"stddev\": 0,\n",
      "        \"variance\": 0\n",
      "      },\n",
      "      {\n",
      "        \"average\": 1,\n",
      "        \"count\": 6727923,\n",
      "        \"maximum\": 1,\n",
      "        \"minimum\": 1,\n",
      "        \"name\": \"ReturnNumber\",\n",
      "        \"position\": 4,\n",
      "        \"stddev\": 0.0003855311964,\n",
      "        \"variance\": 1.486343034e-07\n",
      "      },\n",
      "      {\n",
      "        \"average\": 1,\n",
      "        \"count\": 6727923,\n",
      "        \"maximum\": 1,\n",
      "        \"minimum\": 1,\n",
      "        \"name\": \"NumberOfReturns\",\n",
      "        \"position\": 5,\n",
      "        \"stddev\": 0.0003855311964,\n",
      "        \"variance\": 1.486343034e-07\n",
      "      },\n",
      "      {\n",
      "        \"average\": 0,\n",
      "        \"count\": 6727923,\n",
      "        \"maximum\": 0,\n",
      "        \"minimum\": 0,\n",
      "        \"name\": \"ScanDirectionFlag\",\n",
      "        \"position\": 6,\n",
      "        \"stddev\": 0,\n",
      "        \"variance\": 0\n",
      "      },\n",
      "      {\n",
      "        \"average\": 0,\n",
      "        \"count\": 6727923,\n",
      "        \"maximum\": 0,\n",
      "        \"minimum\": 0,\n",
      "        \"name\": \"EdgeOfFlightLine\",\n",
      "        \"position\": 7,\n",
      "        \"stddev\": 0,\n",
      "        \"variance\": 0\n",
      "      },\n",
      "      {\n",
      "        \"average\": 0,\n",
      "        \"count\": 6727923,\n",
      "        \"maximum\": 0,\n",
      "        \"minimum\": 0,\n",
      "        \"name\": \"Classification\",\n",
      "        \"position\": 8,\n",
      "        \"stddev\": 0,\n",
      "        \"variance\": 0\n",
      "      },\n",
      "      {\n",
      "        \"average\": 0,\n",
      "        \"count\": 6727923,\n",
      "        \"maximum\": 0,\n",
      "        \"minimum\": 0,\n",
      "        \"name\": \"ScanAngleRank\",\n",
      "        \"position\": 9,\n",
      "        \"stddev\": 0,\n",
      "        \"variance\": 0\n",
      "      },\n",
      "      {\n",
      "        \"average\": 0,\n",
      "        \"count\": 6727923,\n",
      "        \"maximum\": 0,\n",
      "        \"minimum\": 0,\n",
      "        \"name\": \"UserData\",\n",
      "        \"position\": 10,\n",
      "        \"stddev\": 0,\n",
      "        \"variance\": 0\n",
      "      },\n",
      "      {\n",
      "        \"average\": 0,\n",
      "        \"count\": 6727923,\n",
      "        \"maximum\": 0,\n",
      "        \"minimum\": 0,\n",
      "        \"name\": \"PointSourceId\",\n",
      "        \"position\": 11,\n",
      "        \"stddev\": 0,\n",
      "        \"variance\": 0\n",
      "      },\n",
      "      {\n",
      "        \"average\": 0,\n",
      "        \"count\": 6727923,\n",
      "        \"maximum\": 0,\n",
      "        \"minimum\": 0,\n",
      "        \"name\": \"Red\",\n",
      "        \"position\": 12,\n",
      "        \"stddev\": 0,\n",
      "        \"variance\": 0\n",
      "      },\n",
      "      {\n",
      "        \"average\": 0,\n",
      "        \"count\": 6727923,\n",
      "        \"maximum\": 0,\n",
      "        \"minimum\": 0,\n",
      "        \"name\": \"Green\",\n",
      "        \"position\": 13,\n",
      "        \"stddev\": 0,\n",
      "        \"variance\": 0\n",
      "      },\n",
      "      {\n",
      "        \"average\": 0,\n",
      "        \"count\": 6727923,\n",
      "        \"maximum\": 0,\n",
      "        \"minimum\": 0,\n",
      "        \"name\": \"Blue\",\n",
      "        \"position\": 14,\n",
      "        \"stddev\": 0,\n",
      "        \"variance\": 0\n",
      "      },\n",
      "      {\n",
      "        \"average\": 0,\n",
      "        \"count\": 6727923,\n",
      "        \"maximum\": 0,\n",
      "        \"minimum\": 0,\n",
      "        \"name\": \"GpsTime\",\n",
      "        \"position\": 15,\n",
      "        \"stddev\": 0,\n",
      "        \"variance\": 0\n",
      "      }\n",
      "    ]\n",
      "  }\n",
      "}\n"
     ]
    }
   ],
   "source": [
    "!pdal info output1.las"
   ]
  },
  {
   "cell_type": "code",
   "execution_count": 61,
   "metadata": {},
   "outputs": [
    {
     "name": "stdout",
     "output_type": "stream",
     "text": [
      "{\n",
      "  \"pipeline\": [\n",
      "    {\n",
      "      \"type\": \"readers.txt\",\n",
      "      \"filename\": \"output1.txt\"\n",
      "    },\n",
      "    {\n",
      "      \"type\": \"writers.las\",\n",
      "      \"filename\": \"output1.txt\"\n",
      "    }\n",
      "  ]\n",
      "}"
     ]
    }
   ],
   "source": [
    "!cat ../data/yxz2las.json"
   ]
  },
  {
   "cell_type": "code",
   "execution_count": null,
   "metadata": {},
   "outputs": [],
   "source": []
  },
  {
   "cell_type": "code",
   "execution_count": 48,
   "metadata": {},
   "outputs": [
    {
     "name": "stdout",
     "output_type": "stream",
     "text": [
      "{\n",
      "  \"filename\": \"output1.txt\",\n",
      "  \"pdal_version\": \"2.0.1 (git-version: 6600e6)\",\n",
      "  \"stats\":\n",
      "  {\n",
      "    \"bbox\":\n",
      "    {\n",
      "      \"native\":\n",
      "      {\n",
      "        \"bbox\":\n",
      "        {\n",
      "          \"maxx\": 1277038.29,\n",
      "          \"maxy\": 5006227.75,\n",
      "          \"maxz\": 1404.07,\n",
      "          \"minx\": 1275745.46,\n",
      "          \"miny\": 5003951.5,\n",
      "          \"minz\": 743.34\n",
      "        },\n",
      "        \"boundary\": \"{ \\\"type\\\": \\\"Polygon\\\", \\\"coordinates\\\": [ [ [ 1275745.46, 5003951.5, 743.34 ], [ 1275745.46, 5006227.75, 743.34 ], [ 1277038.29, 5006227.75, 1404.07 ], [ 1277038.29, 5003951.5, 1404.07 ], [ 1275745.46, 5003951.5, 743.34 ] ] ] }\"\n",
      "      }\n",
      "    },\n",
      "    \"statistic\":\n",
      "    [\n",
      "      {\n",
      "        \"average\": 1276561.587,\n",
      "        \"count\": 6727923,\n",
      "        \"maximum\": 1277038.29,\n",
      "        \"minimum\": 1275745.46,\n",
      "        \"name\": \"X\",\n",
      "        \"position\": 0,\n",
      "        \"stddev\": 575.6314692,\n",
      "        \"variance\": 331351.5884\n",
      "      },\n",
      "      {\n",
      "        \"average\": 5005217.851,\n",
      "        \"count\": 6727923,\n",
      "        \"maximum\": 5006227.75,\n",
      "        \"minimum\": 5003951.5,\n",
      "        \"name\": \"Y\",\n",
      "        \"position\": 1,\n",
      "        \"stddev\": 1996.720055,\n",
      "        \"variance\": 3986890.979\n",
      "      },\n",
      "      {\n",
      "        \"average\": 1034.604534,\n",
      "        \"count\": 6727923,\n",
      "        \"maximum\": 1404.07,\n",
      "        \"minimum\": 743.34,\n",
      "        \"name\": \"Z\",\n",
      "        \"position\": 2,\n",
      "        \"stddev\": 150.741606,\n",
      "        \"variance\": 22723.03178\n",
      "      }\n",
      "    ]\n",
      "  }\n",
      "}\n"
     ]
    }
   ],
   "source": [
    "!pdal info output1.txt"
   ]
  },
  {
   "cell_type": "code",
   "execution_count": null,
   "metadata": {},
   "outputs": [],
   "source": []
  }
 ],
 "metadata": {
  "kernelspec": {
   "display_name": "Python 3",
   "language": "python",
   "name": "python3"
  },
  "language_info": {
   "codemirror_mode": {
    "name": "ipython",
    "version": 3
   },
   "file_extension": ".py",
   "mimetype": "text/x-python",
   "name": "python",
   "nbconvert_exporter": "python",
   "pygments_lexer": "ipython3",
   "version": "3.7.6"
  }
 },
 "nbformat": 4,
 "nbformat_minor": 4
}
